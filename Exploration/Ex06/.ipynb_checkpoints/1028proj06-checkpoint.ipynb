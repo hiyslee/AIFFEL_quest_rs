{
  "nbformat": 4,
  "nbformat_minor": 0,
  "metadata": {
    "colab": {
      "provenance": [],
      "gpuType": "T4"
    },
    "kernelspec": {
      "name": "python3",
      "display_name": "Python 3"
    },
    "language_info": {
      "name": "python"
    },
    "accelerator": "GPU"
  },
  "cells": [
    {
      "cell_type": "code",
      "source": [
        "!pip install --upgrade summa\n",
        "!pip install --upgrade nltk #3.9.1"
      ],
      "metadata": {
        "colab": {
          "base_uri": "https://localhost:8080/"
        },
        "id": "98LM3a8WqP_g",
        "outputId": "0919bca9-74c8-4983-c789-1ecd1b1d989d"
      },
      "execution_count": 1,
      "outputs": [
        {
          "output_type": "stream",
          "name": "stdout",
          "text": [
            "Collecting summa\n",
            "  Downloading summa-1.2.0.tar.gz (54 kB)\n",
            "\u001b[?25l     \u001b[90m━━━━━━━━━━━━━━━━━━━━━━━━━━━━━━━━━━━━━━━━\u001b[0m \u001b[32m0.0/54.9 kB\u001b[0m \u001b[31m?\u001b[0m eta \u001b[36m-:--:--\u001b[0m\r\u001b[2K     \u001b[90m━━━━━━━━━━━━━━━━━━━━━━━━━━━━━━━━━━━━━━━━\u001b[0m \u001b[32m54.9/54.9 kB\u001b[0m \u001b[31m3.7 MB/s\u001b[0m eta \u001b[36m0:00:00\u001b[0m\n",
            "\u001b[?25h  Preparing metadata (setup.py) ... \u001b[?25l\u001b[?25hdone\n",
            "Requirement already satisfied: scipy>=0.19 in /usr/local/lib/python3.12/dist-packages (from summa) (1.16.2)\n",
            "Requirement already satisfied: numpy<2.6,>=1.25.2 in /usr/local/lib/python3.12/dist-packages (from scipy>=0.19->summa) (2.0.2)\n",
            "Building wheels for collected packages: summa\n",
            "  Building wheel for summa (setup.py) ... \u001b[?25l\u001b[?25hdone\n",
            "  Created wheel for summa: filename=summa-1.2.0-py3-none-any.whl size=54387 sha256=fa5e7f7a3ef24f7c92a28502e52f815c55c924cb9d56472ba84ba8efdf62f016\n",
            "  Stored in directory: /root/.cache/pip/wheels/70/26/84/58df5a55ebde6fd802666b6ac0b86909ecd018a2702b89d13c\n",
            "Successfully built summa\n",
            "Installing collected packages: summa\n",
            "Successfully installed summa-1.2.0\n",
            "Requirement already satisfied: nltk in /usr/local/lib/python3.12/dist-packages (3.9.1)\n",
            "Collecting nltk\n",
            "  Downloading nltk-3.9.2-py3-none-any.whl.metadata (3.2 kB)\n",
            "Requirement already satisfied: click in /usr/local/lib/python3.12/dist-packages (from nltk) (8.3.0)\n",
            "Requirement already satisfied: joblib in /usr/local/lib/python3.12/dist-packages (from nltk) (1.5.2)\n",
            "Requirement already satisfied: regex>=2021.8.3 in /usr/local/lib/python3.12/dist-packages (from nltk) (2024.11.6)\n",
            "Requirement already satisfied: tqdm in /usr/local/lib/python3.12/dist-packages (from nltk) (4.67.1)\n",
            "Downloading nltk-3.9.2-py3-none-any.whl (1.5 MB)\n",
            "\u001b[2K   \u001b[90m━━━━━━━━━━━━━━━━━━━━━━━━━━━━━━━━━━━━━━━━\u001b[0m \u001b[32m1.5/1.5 MB\u001b[0m \u001b[31m28.7 MB/s\u001b[0m eta \u001b[36m0:00:00\u001b[0m\n",
            "\u001b[?25hInstalling collected packages: nltk\n",
            "  Attempting uninstall: nltk\n",
            "    Found existing installation: nltk 3.9.1\n",
            "    Uninstalling nltk-3.9.1:\n",
            "      Successfully uninstalled nltk-3.9.1\n",
            "Successfully installed nltk-3.9.2\n"
          ]
        }
      ]
    },
    {
      "cell_type": "code",
      "source": [
        "from importlib.metadata import version\n",
        "import nltk\n",
        "import torch\n",
        "import summa\n",
        "import pandas as pd\n",
        "\n",
        "print(nltk.__version__)\n",
        "print(torch.__version__)\n",
        "print(pd.__version__)\n",
        "print(version('summa'))"
      ],
      "metadata": {
        "colab": {
          "base_uri": "https://localhost:8080/"
        },
        "id": "mhei7gCtqZGo",
        "outputId": "002dde2d-02ab-476c-a2da-881f1c10f7bb"
      },
      "execution_count": 2,
      "outputs": [
        {
          "output_type": "stream",
          "name": "stdout",
          "text": [
            "3.9.2\n",
            "2.8.0+cu126\n",
            "2.2.2\n",
            "1.2.0\n"
          ]
        }
      ]
    },
    {
      "cell_type": "code",
      "source": [],
      "metadata": {
        "id": "p7gG0wzIImqW"
      },
      "execution_count": null,
      "outputs": []
    },
    {
      "cell_type": "markdown",
      "source": [
        "**STEP 1**: 데이터 수집하기"
      ],
      "metadata": {
        "id": "OlWtsX8oIjtT"
      }
    },
    {
      "cell_type": "code",
      "source": [
        "#The dataset consists of 4515 examples and contains Author_name, Headlines, Url of Article, Short text, Complete Article.\n",
        "import urllib.request\n",
        "urllib.request.urlretrieve(\"https://raw.githubusercontent.com/sunnysai12345/News_Summary/master/news_summary_more.csv\", filename=\"news_summary_more.csv\")\n",
        "data = pd.read_csv('news_summary_more.csv', encoding='iso-8859-1')"
      ],
      "metadata": {
        "id": "Un5deTTKnWIp"
      },
      "execution_count": 3,
      "outputs": []
    },
    {
      "cell_type": "code",
      "source": [
        "data.sample(10)"
      ],
      "metadata": {
        "colab": {
          "base_uri": "https://localhost:8080/",
          "height": 363
        },
        "id": "2G3WKobxqsed",
        "outputId": "da946818-413d-43ac-93ed-a9da8dd33196"
      },
      "execution_count": 4,
      "outputs": [
        {
          "output_type": "execute_result",
          "data": {
            "text/plain": [
              "                                               headlines  \\\n",
              "8290   BSNL employee unions claim government favourin...   \n",
              "59876  1st African-American flew to space after 124 s...   \n",
              "33070  Delhi residence of Trinamool MP Satabdi Roy ro...   \n",
              "158    25-year-old man killed by girlfriend's brother...   \n",
              "59777  Australian Open to strictly allow 25 secs betw...   \n",
              "82972  Man claims ex-adult star Mia Khalifa punched h...   \n",
              "28235  US newspaper shooting suspect had sued paper i...   \n",
              "74955  Airtel's stock surged 33% in 2017 despite fall...   \n",
              "89986  US State Dept deletes retweet promoting Ivanka...   \n",
              "58882  Don't those with criminal records have rights?...   \n",
              "\n",
              "                                                    text  \n",
              "8290   State-run BSNL's employee unions have alleged ...  \n",
              "59876  Retired NASA astronaut Guion Bluford was the f...  \n",
              "33070  Burglars broke into the official residence of ...  \n",
              "158    A 25-year-old man named Saif Ali Sharafat Ali ...  \n",
              "59777  A 25-second shot clock will be introduced at t...  \n",
              "82972  A Twitter user has claimed that former adult s...  \n",
              "28235  The 38-year-old man who is suspected to have c...  \n",
              "74955  Shares of Sunil Mittal-led Bharti Airtel have ...  \n",
              "89986  An official US State Department Twitter accoun...  \n",
              "58882  The Bombay High Court has asked the Maharashtr...  "
            ],
            "text/html": [
              "\n",
              "  <div id=\"df-111b3e43-0125-4771-9126-bd2ff91ae294\" class=\"colab-df-container\">\n",
              "    <div>\n",
              "<style scoped>\n",
              "    .dataframe tbody tr th:only-of-type {\n",
              "        vertical-align: middle;\n",
              "    }\n",
              "\n",
              "    .dataframe tbody tr th {\n",
              "        vertical-align: top;\n",
              "    }\n",
              "\n",
              "    .dataframe thead th {\n",
              "        text-align: right;\n",
              "    }\n",
              "</style>\n",
              "<table border=\"1\" class=\"dataframe\">\n",
              "  <thead>\n",
              "    <tr style=\"text-align: right;\">\n",
              "      <th></th>\n",
              "      <th>headlines</th>\n",
              "      <th>text</th>\n",
              "    </tr>\n",
              "  </thead>\n",
              "  <tbody>\n",
              "    <tr>\n",
              "      <th>8290</th>\n",
              "      <td>BSNL employee unions claim government favourin...</td>\n",
              "      <td>State-run BSNL's employee unions have alleged ...</td>\n",
              "    </tr>\n",
              "    <tr>\n",
              "      <th>59876</th>\n",
              "      <td>1st African-American flew to space after 124 s...</td>\n",
              "      <td>Retired NASA astronaut Guion Bluford was the f...</td>\n",
              "    </tr>\n",
              "    <tr>\n",
              "      <th>33070</th>\n",
              "      <td>Delhi residence of Trinamool MP Satabdi Roy ro...</td>\n",
              "      <td>Burglars broke into the official residence of ...</td>\n",
              "    </tr>\n",
              "    <tr>\n",
              "      <th>158</th>\n",
              "      <td>25-year-old man killed by girlfriend's brother...</td>\n",
              "      <td>A 25-year-old man named Saif Ali Sharafat Ali ...</td>\n",
              "    </tr>\n",
              "    <tr>\n",
              "      <th>59777</th>\n",
              "      <td>Australian Open to strictly allow 25 secs betw...</td>\n",
              "      <td>A 25-second shot clock will be introduced at t...</td>\n",
              "    </tr>\n",
              "    <tr>\n",
              "      <th>82972</th>\n",
              "      <td>Man claims ex-adult star Mia Khalifa punched h...</td>\n",
              "      <td>A Twitter user has claimed that former adult s...</td>\n",
              "    </tr>\n",
              "    <tr>\n",
              "      <th>28235</th>\n",
              "      <td>US newspaper shooting suspect had sued paper i...</td>\n",
              "      <td>The 38-year-old man who is suspected to have c...</td>\n",
              "    </tr>\n",
              "    <tr>\n",
              "      <th>74955</th>\n",
              "      <td>Airtel's stock surged 33% in 2017 despite fall...</td>\n",
              "      <td>Shares of Sunil Mittal-led Bharti Airtel have ...</td>\n",
              "    </tr>\n",
              "    <tr>\n",
              "      <th>89986</th>\n",
              "      <td>US State Dept deletes retweet promoting Ivanka...</td>\n",
              "      <td>An official US State Department Twitter accoun...</td>\n",
              "    </tr>\n",
              "    <tr>\n",
              "      <th>58882</th>\n",
              "      <td>Don't those with criminal records have rights?...</td>\n",
              "      <td>The Bombay High Court has asked the Maharashtr...</td>\n",
              "    </tr>\n",
              "  </tbody>\n",
              "</table>\n",
              "</div>\n",
              "    <div class=\"colab-df-buttons\">\n",
              "\n",
              "  <div class=\"colab-df-container\">\n",
              "    <button class=\"colab-df-convert\" onclick=\"convertToInteractive('df-111b3e43-0125-4771-9126-bd2ff91ae294')\"\n",
              "            title=\"Convert this dataframe to an interactive table.\"\n",
              "            style=\"display:none;\">\n",
              "\n",
              "  <svg xmlns=\"http://www.w3.org/2000/svg\" height=\"24px\" viewBox=\"0 -960 960 960\">\n",
              "    <path d=\"M120-120v-720h720v720H120Zm60-500h600v-160H180v160Zm220 220h160v-160H400v160Zm0 220h160v-160H400v160ZM180-400h160v-160H180v160Zm440 0h160v-160H620v160ZM180-180h160v-160H180v160Zm440 0h160v-160H620v160Z\"/>\n",
              "  </svg>\n",
              "    </button>\n",
              "\n",
              "  <style>\n",
              "    .colab-df-container {\n",
              "      display:flex;\n",
              "      gap: 12px;\n",
              "    }\n",
              "\n",
              "    .colab-df-convert {\n",
              "      background-color: #E8F0FE;\n",
              "      border: none;\n",
              "      border-radius: 50%;\n",
              "      cursor: pointer;\n",
              "      display: none;\n",
              "      fill: #1967D2;\n",
              "      height: 32px;\n",
              "      padding: 0 0 0 0;\n",
              "      width: 32px;\n",
              "    }\n",
              "\n",
              "    .colab-df-convert:hover {\n",
              "      background-color: #E2EBFA;\n",
              "      box-shadow: 0px 1px 2px rgba(60, 64, 67, 0.3), 0px 1px 3px 1px rgba(60, 64, 67, 0.15);\n",
              "      fill: #174EA6;\n",
              "    }\n",
              "\n",
              "    .colab-df-buttons div {\n",
              "      margin-bottom: 4px;\n",
              "    }\n",
              "\n",
              "    [theme=dark] .colab-df-convert {\n",
              "      background-color: #3B4455;\n",
              "      fill: #D2E3FC;\n",
              "    }\n",
              "\n",
              "    [theme=dark] .colab-df-convert:hover {\n",
              "      background-color: #434B5C;\n",
              "      box-shadow: 0px 1px 3px 1px rgba(0, 0, 0, 0.15);\n",
              "      filter: drop-shadow(0px 1px 2px rgba(0, 0, 0, 0.3));\n",
              "      fill: #FFFFFF;\n",
              "    }\n",
              "  </style>\n",
              "\n",
              "    <script>\n",
              "      const buttonEl =\n",
              "        document.querySelector('#df-111b3e43-0125-4771-9126-bd2ff91ae294 button.colab-df-convert');\n",
              "      buttonEl.style.display =\n",
              "        google.colab.kernel.accessAllowed ? 'block' : 'none';\n",
              "\n",
              "      async function convertToInteractive(key) {\n",
              "        const element = document.querySelector('#df-111b3e43-0125-4771-9126-bd2ff91ae294');\n",
              "        const dataTable =\n",
              "          await google.colab.kernel.invokeFunction('convertToInteractive',\n",
              "                                                    [key], {});\n",
              "        if (!dataTable) return;\n",
              "\n",
              "        const docLinkHtml = 'Like what you see? Visit the ' +\n",
              "          '<a target=\"_blank\" href=https://colab.research.google.com/notebooks/data_table.ipynb>data table notebook</a>'\n",
              "          + ' to learn more about interactive tables.';\n",
              "        element.innerHTML = '';\n",
              "        dataTable['output_type'] = 'display_data';\n",
              "        await google.colab.output.renderOutput(dataTable, element);\n",
              "        const docLink = document.createElement('div');\n",
              "        docLink.innerHTML = docLinkHtml;\n",
              "        element.appendChild(docLink);\n",
              "      }\n",
              "    </script>\n",
              "  </div>\n",
              "\n",
              "\n",
              "    <div id=\"df-d55d9c98-4235-4173-98ea-0df9fa1fddb3\">\n",
              "      <button class=\"colab-df-quickchart\" onclick=\"quickchart('df-d55d9c98-4235-4173-98ea-0df9fa1fddb3')\"\n",
              "                title=\"Suggest charts\"\n",
              "                style=\"display:none;\">\n",
              "\n",
              "<svg xmlns=\"http://www.w3.org/2000/svg\" height=\"24px\"viewBox=\"0 0 24 24\"\n",
              "     width=\"24px\">\n",
              "    <g>\n",
              "        <path d=\"M19 3H5c-1.1 0-2 .9-2 2v14c0 1.1.9 2 2 2h14c1.1 0 2-.9 2-2V5c0-1.1-.9-2-2-2zM9 17H7v-7h2v7zm4 0h-2V7h2v10zm4 0h-2v-4h2v4z\"/>\n",
              "    </g>\n",
              "</svg>\n",
              "      </button>\n",
              "\n",
              "<style>\n",
              "  .colab-df-quickchart {\n",
              "      --bg-color: #E8F0FE;\n",
              "      --fill-color: #1967D2;\n",
              "      --hover-bg-color: #E2EBFA;\n",
              "      --hover-fill-color: #174EA6;\n",
              "      --disabled-fill-color: #AAA;\n",
              "      --disabled-bg-color: #DDD;\n",
              "  }\n",
              "\n",
              "  [theme=dark] .colab-df-quickchart {\n",
              "      --bg-color: #3B4455;\n",
              "      --fill-color: #D2E3FC;\n",
              "      --hover-bg-color: #434B5C;\n",
              "      --hover-fill-color: #FFFFFF;\n",
              "      --disabled-bg-color: #3B4455;\n",
              "      --disabled-fill-color: #666;\n",
              "  }\n",
              "\n",
              "  .colab-df-quickchart {\n",
              "    background-color: var(--bg-color);\n",
              "    border: none;\n",
              "    border-radius: 50%;\n",
              "    cursor: pointer;\n",
              "    display: none;\n",
              "    fill: var(--fill-color);\n",
              "    height: 32px;\n",
              "    padding: 0;\n",
              "    width: 32px;\n",
              "  }\n",
              "\n",
              "  .colab-df-quickchart:hover {\n",
              "    background-color: var(--hover-bg-color);\n",
              "    box-shadow: 0 1px 2px rgba(60, 64, 67, 0.3), 0 1px 3px 1px rgba(60, 64, 67, 0.15);\n",
              "    fill: var(--button-hover-fill-color);\n",
              "  }\n",
              "\n",
              "  .colab-df-quickchart-complete:disabled,\n",
              "  .colab-df-quickchart-complete:disabled:hover {\n",
              "    background-color: var(--disabled-bg-color);\n",
              "    fill: var(--disabled-fill-color);\n",
              "    box-shadow: none;\n",
              "  }\n",
              "\n",
              "  .colab-df-spinner {\n",
              "    border: 2px solid var(--fill-color);\n",
              "    border-color: transparent;\n",
              "    border-bottom-color: var(--fill-color);\n",
              "    animation:\n",
              "      spin 1s steps(1) infinite;\n",
              "  }\n",
              "\n",
              "  @keyframes spin {\n",
              "    0% {\n",
              "      border-color: transparent;\n",
              "      border-bottom-color: var(--fill-color);\n",
              "      border-left-color: var(--fill-color);\n",
              "    }\n",
              "    20% {\n",
              "      border-color: transparent;\n",
              "      border-left-color: var(--fill-color);\n",
              "      border-top-color: var(--fill-color);\n",
              "    }\n",
              "    30% {\n",
              "      border-color: transparent;\n",
              "      border-left-color: var(--fill-color);\n",
              "      border-top-color: var(--fill-color);\n",
              "      border-right-color: var(--fill-color);\n",
              "    }\n",
              "    40% {\n",
              "      border-color: transparent;\n",
              "      border-right-color: var(--fill-color);\n",
              "      border-top-color: var(--fill-color);\n",
              "    }\n",
              "    60% {\n",
              "      border-color: transparent;\n",
              "      border-right-color: var(--fill-color);\n",
              "    }\n",
              "    80% {\n",
              "      border-color: transparent;\n",
              "      border-right-color: var(--fill-color);\n",
              "      border-bottom-color: var(--fill-color);\n",
              "    }\n",
              "    90% {\n",
              "      border-color: transparent;\n",
              "      border-bottom-color: var(--fill-color);\n",
              "    }\n",
              "  }\n",
              "</style>\n",
              "\n",
              "      <script>\n",
              "        async function quickchart(key) {\n",
              "          const quickchartButtonEl =\n",
              "            document.querySelector('#' + key + ' button');\n",
              "          quickchartButtonEl.disabled = true;  // To prevent multiple clicks.\n",
              "          quickchartButtonEl.classList.add('colab-df-spinner');\n",
              "          try {\n",
              "            const charts = await google.colab.kernel.invokeFunction(\n",
              "                'suggestCharts', [key], {});\n",
              "          } catch (error) {\n",
              "            console.error('Error during call to suggestCharts:', error);\n",
              "          }\n",
              "          quickchartButtonEl.classList.remove('colab-df-spinner');\n",
              "          quickchartButtonEl.classList.add('colab-df-quickchart-complete');\n",
              "        }\n",
              "        (() => {\n",
              "          let quickchartButtonEl =\n",
              "            document.querySelector('#df-d55d9c98-4235-4173-98ea-0df9fa1fddb3 button');\n",
              "          quickchartButtonEl.style.display =\n",
              "            google.colab.kernel.accessAllowed ? 'block' : 'none';\n",
              "        })();\n",
              "      </script>\n",
              "    </div>\n",
              "\n",
              "    </div>\n",
              "  </div>\n"
            ],
            "application/vnd.google.colaboratory.intrinsic+json": {
              "type": "dataframe",
              "summary": "{\n  \"name\": \"data\",\n  \"rows\": 10,\n  \"fields\": [\n    {\n      \"column\": \"headlines\",\n      \"properties\": {\n        \"dtype\": \"string\",\n        \"num_unique_values\": 10,\n        \"samples\": [\n          \"US State Dept deletes retweet promoting Ivanka Trump's book\",\n          \"1st African-American flew to space after 124 spaceflights\",\n          \"Man claims ex-adult star Mia Khalifa punched him over selfie\"\n        ],\n        \"semantic_type\": \"\",\n        \"description\": \"\"\n      }\n    },\n    {\n      \"column\": \"text\",\n      \"properties\": {\n        \"dtype\": \"string\",\n        \"num_unique_values\": 10,\n        \"samples\": [\n          \"An official US State Department Twitter account retweeted a post by White House adviser Ivanka Trump in which she promoted her book 'Women Who Work'. However, the tweet was later deleted. The retweet did not break any law, but could violate federal rules against using public office to promote commercial products or using government resources for unauthorised purposes, experts said.\",\n          \"Retired NASA astronaut Guion Bluford was the first African-American to fly into space, achieving the feat in 1983 aboard the Challenger spacecraft. The US Airforce pilot was selected for the 125th human spaceflight following which he flew three missions logging over 688 hours in space. Bluford, who turns 75 today, is currently the President of a US-based engineering consulting organisation.\",\n          \"A Twitter user has claimed that former adult star Mia Khalifa punched him after he attempted to take a selfie with her. Following this, numerous people tweeted pictures with Mia, claiming she agreed to selfies if they were taken with consent. Responding to one such picture, Mia tweeted, \\\"Thanks for asking me nicely rather than...shoving a cam in my face.\\\" \"\n        ],\n        \"semantic_type\": \"\",\n        \"description\": \"\"\n      }\n    }\n  ]\n}"
            }
          },
          "metadata": {},
          "execution_count": 4
        }
      ]
    },
    {
      "cell_type": "markdown",
      "source": [
        "**Step 2**: 데이터 전처리하기(추상적 요약)"
      ],
      "metadata": {
        "id": "C28MF95uIyc0"
      }
    },
    {
      "cell_type": "code",
      "source": [
        "# 문자 파싱용으로 beautiful soup을 설치\n",
        "!pip install beautifulsoup4"
      ],
      "metadata": {
        "colab": {
          "base_uri": "https://localhost:8080/"
        },
        "id": "BT1z7hZEqv-7",
        "outputId": "d56055cf-3a1f-48cd-8300-36aee95ff99a"
      },
      "execution_count": 5,
      "outputs": [
        {
          "output_type": "stream",
          "name": "stdout",
          "text": [
            "Requirement already satisfied: beautifulsoup4 in /usr/local/lib/python3.12/dist-packages (4.13.5)\n",
            "Requirement already satisfied: soupsieve>1.2 in /usr/local/lib/python3.12/dist-packages (from beautifulsoup4) (2.8)\n",
            "Requirement already satisfied: typing-extensions>=4.0.0 in /usr/local/lib/python3.12/dist-packages (from beautifulsoup4) (4.15.0)\n"
          ]
        }
      ]
    },
    {
      "cell_type": "code",
      "source": [
        "#불용어 사전과 관련 패커지를 불러옵니다.\n",
        "import nltk\n",
        "nltk.download('stopwords')\n",
        "\n",
        "import numpy as np\n",
        "import pandas as pd\n",
        "import os\n",
        "import re\n",
        "import matplotlib.pyplot as plt\n",
        "from nltk.corpus import stopwords\n",
        "from bs4 import BeautifulSoup\n",
        "\n",
        "import torch\n",
        "from collections import Counter\n",
        "\n",
        "import urllib.request\n",
        "import warnings\n",
        "warnings.filterwarnings(\"ignore\", category=UserWarning, module='bs4')\n",
        "\n",
        "print('=3')"
      ],
      "metadata": {
        "colab": {
          "base_uri": "https://localhost:8080/"
        },
        "id": "wQ19tWRfru6H",
        "outputId": "d2e993b2-ca46-4025-be7c-10ea45a46487"
      },
      "execution_count": 6,
      "outputs": [
        {
          "output_type": "stream",
          "name": "stderr",
          "text": [
            "[nltk_data] Downloading package stopwords to /root/nltk_data...\n",
            "[nltk_data]   Unzipping corpora/stopwords.zip.\n"
          ]
        },
        {
          "output_type": "stream",
          "name": "stdout",
          "text": [
            "=3\n"
          ]
        }
      ]
    },
    {
      "cell_type": "code",
      "source": [
        "# 시간 관계상 첫 10,000개 데이터만 사용하고자 합니다. 전체 데이타는 98000여개로 파악 --> 제대로 학습이 이루어지지 않아서 다시 수정\n",
        "data = pd.read_csv(\"/content/news_summary_more.csv\")\n",
        "print('전체 샘플수 :', (len(data)))"
      ],
      "metadata": {
        "colab": {
          "base_uri": "https://localhost:8080/"
        },
        "id": "rxTeQRE5sCTI",
        "outputId": "929da951-562b-452d-eca7-7e1061e2e92b"
      },
      "execution_count": 55,
      "outputs": [
        {
          "output_type": "stream",
          "name": "stdout",
          "text": [
            "전체 샘플수 : 98401\n"
          ]
        }
      ]
    },
    {
      "cell_type": "code",
      "source": [
        "# 시험삼아 데이터 첫 부분만 체크해봐요\n",
        "data.head()"
      ],
      "metadata": {
        "colab": {
          "base_uri": "https://localhost:8080/",
          "height": 206
        },
        "id": "nmVdQoabsih3",
        "outputId": "450862f9-8fa3-47b6-f067-22da3b041cf0"
      },
      "execution_count": 56,
      "outputs": [
        {
          "output_type": "execute_result",
          "data": {
            "text/plain": [
              "                                           headlines  \\\n",
              "0  upGrad learner switches to career in ML & Al w...   \n",
              "1  Delhi techie wins free food from Swiggy for on...   \n",
              "2  New Zealand end Rohit Sharma-led India's 12-ma...   \n",
              "3  Aegon life iTerm insurance plan helps customer...   \n",
              "4  Have known Hirani for yrs, what if MeToo claim...   \n",
              "\n",
              "                                                text  \n",
              "0  Saurav Kant, an alumnus of upGrad and IIIT-B's...  \n",
              "1  Kunal Shah's credit card bill payment platform...  \n",
              "2  New Zealand defeated India by 8 wickets in the...  \n",
              "3  With Aegon Life iTerm Insurance plan, customer...  \n",
              "4  Speaking about the sexual harassment allegatio...  "
            ],
            "text/html": [
              "\n",
              "  <div id=\"df-cf149ab4-b42d-4e9e-af25-71f3a4d62bf5\" class=\"colab-df-container\">\n",
              "    <div>\n",
              "<style scoped>\n",
              "    .dataframe tbody tr th:only-of-type {\n",
              "        vertical-align: middle;\n",
              "    }\n",
              "\n",
              "    .dataframe tbody tr th {\n",
              "        vertical-align: top;\n",
              "    }\n",
              "\n",
              "    .dataframe thead th {\n",
              "        text-align: right;\n",
              "    }\n",
              "</style>\n",
              "<table border=\"1\" class=\"dataframe\">\n",
              "  <thead>\n",
              "    <tr style=\"text-align: right;\">\n",
              "      <th></th>\n",
              "      <th>headlines</th>\n",
              "      <th>text</th>\n",
              "    </tr>\n",
              "  </thead>\n",
              "  <tbody>\n",
              "    <tr>\n",
              "      <th>0</th>\n",
              "      <td>upGrad learner switches to career in ML &amp; Al w...</td>\n",
              "      <td>Saurav Kant, an alumnus of upGrad and IIIT-B's...</td>\n",
              "    </tr>\n",
              "    <tr>\n",
              "      <th>1</th>\n",
              "      <td>Delhi techie wins free food from Swiggy for on...</td>\n",
              "      <td>Kunal Shah's credit card bill payment platform...</td>\n",
              "    </tr>\n",
              "    <tr>\n",
              "      <th>2</th>\n",
              "      <td>New Zealand end Rohit Sharma-led India's 12-ma...</td>\n",
              "      <td>New Zealand defeated India by 8 wickets in the...</td>\n",
              "    </tr>\n",
              "    <tr>\n",
              "      <th>3</th>\n",
              "      <td>Aegon life iTerm insurance plan helps customer...</td>\n",
              "      <td>With Aegon Life iTerm Insurance plan, customer...</td>\n",
              "    </tr>\n",
              "    <tr>\n",
              "      <th>4</th>\n",
              "      <td>Have known Hirani for yrs, what if MeToo claim...</td>\n",
              "      <td>Speaking about the sexual harassment allegatio...</td>\n",
              "    </tr>\n",
              "  </tbody>\n",
              "</table>\n",
              "</div>\n",
              "    <div class=\"colab-df-buttons\">\n",
              "\n",
              "  <div class=\"colab-df-container\">\n",
              "    <button class=\"colab-df-convert\" onclick=\"convertToInteractive('df-cf149ab4-b42d-4e9e-af25-71f3a4d62bf5')\"\n",
              "            title=\"Convert this dataframe to an interactive table.\"\n",
              "            style=\"display:none;\">\n",
              "\n",
              "  <svg xmlns=\"http://www.w3.org/2000/svg\" height=\"24px\" viewBox=\"0 -960 960 960\">\n",
              "    <path d=\"M120-120v-720h720v720H120Zm60-500h600v-160H180v160Zm220 220h160v-160H400v160Zm0 220h160v-160H400v160ZM180-400h160v-160H180v160Zm440 0h160v-160H620v160ZM180-180h160v-160H180v160Zm440 0h160v-160H620v160Z\"/>\n",
              "  </svg>\n",
              "    </button>\n",
              "\n",
              "  <style>\n",
              "    .colab-df-container {\n",
              "      display:flex;\n",
              "      gap: 12px;\n",
              "    }\n",
              "\n",
              "    .colab-df-convert {\n",
              "      background-color: #E8F0FE;\n",
              "      border: none;\n",
              "      border-radius: 50%;\n",
              "      cursor: pointer;\n",
              "      display: none;\n",
              "      fill: #1967D2;\n",
              "      height: 32px;\n",
              "      padding: 0 0 0 0;\n",
              "      width: 32px;\n",
              "    }\n",
              "\n",
              "    .colab-df-convert:hover {\n",
              "      background-color: #E2EBFA;\n",
              "      box-shadow: 0px 1px 2px rgba(60, 64, 67, 0.3), 0px 1px 3px 1px rgba(60, 64, 67, 0.15);\n",
              "      fill: #174EA6;\n",
              "    }\n",
              "\n",
              "    .colab-df-buttons div {\n",
              "      margin-bottom: 4px;\n",
              "    }\n",
              "\n",
              "    [theme=dark] .colab-df-convert {\n",
              "      background-color: #3B4455;\n",
              "      fill: #D2E3FC;\n",
              "    }\n",
              "\n",
              "    [theme=dark] .colab-df-convert:hover {\n",
              "      background-color: #434B5C;\n",
              "      box-shadow: 0px 1px 3px 1px rgba(0, 0, 0, 0.15);\n",
              "      filter: drop-shadow(0px 1px 2px rgba(0, 0, 0, 0.3));\n",
              "      fill: #FFFFFF;\n",
              "    }\n",
              "  </style>\n",
              "\n",
              "    <script>\n",
              "      const buttonEl =\n",
              "        document.querySelector('#df-cf149ab4-b42d-4e9e-af25-71f3a4d62bf5 button.colab-df-convert');\n",
              "      buttonEl.style.display =\n",
              "        google.colab.kernel.accessAllowed ? 'block' : 'none';\n",
              "\n",
              "      async function convertToInteractive(key) {\n",
              "        const element = document.querySelector('#df-cf149ab4-b42d-4e9e-af25-71f3a4d62bf5');\n",
              "        const dataTable =\n",
              "          await google.colab.kernel.invokeFunction('convertToInteractive',\n",
              "                                                    [key], {});\n",
              "        if (!dataTable) return;\n",
              "\n",
              "        const docLinkHtml = 'Like what you see? Visit the ' +\n",
              "          '<a target=\"_blank\" href=https://colab.research.google.com/notebooks/data_table.ipynb>data table notebook</a>'\n",
              "          + ' to learn more about interactive tables.';\n",
              "        element.innerHTML = '';\n",
              "        dataTable['output_type'] = 'display_data';\n",
              "        await google.colab.output.renderOutput(dataTable, element);\n",
              "        const docLink = document.createElement('div');\n",
              "        docLink.innerHTML = docLinkHtml;\n",
              "        element.appendChild(docLink);\n",
              "      }\n",
              "    </script>\n",
              "  </div>\n",
              "\n",
              "\n",
              "    <div id=\"df-f310d8c8-64ce-45a7-a0f6-9189d786c315\">\n",
              "      <button class=\"colab-df-quickchart\" onclick=\"quickchart('df-f310d8c8-64ce-45a7-a0f6-9189d786c315')\"\n",
              "                title=\"Suggest charts\"\n",
              "                style=\"display:none;\">\n",
              "\n",
              "<svg xmlns=\"http://www.w3.org/2000/svg\" height=\"24px\"viewBox=\"0 0 24 24\"\n",
              "     width=\"24px\">\n",
              "    <g>\n",
              "        <path d=\"M19 3H5c-1.1 0-2 .9-2 2v14c0 1.1.9 2 2 2h14c1.1 0 2-.9 2-2V5c0-1.1-.9-2-2-2zM9 17H7v-7h2v7zm4 0h-2V7h2v10zm4 0h-2v-4h2v4z\"/>\n",
              "    </g>\n",
              "</svg>\n",
              "      </button>\n",
              "\n",
              "<style>\n",
              "  .colab-df-quickchart {\n",
              "      --bg-color: #E8F0FE;\n",
              "      --fill-color: #1967D2;\n",
              "      --hover-bg-color: #E2EBFA;\n",
              "      --hover-fill-color: #174EA6;\n",
              "      --disabled-fill-color: #AAA;\n",
              "      --disabled-bg-color: #DDD;\n",
              "  }\n",
              "\n",
              "  [theme=dark] .colab-df-quickchart {\n",
              "      --bg-color: #3B4455;\n",
              "      --fill-color: #D2E3FC;\n",
              "      --hover-bg-color: #434B5C;\n",
              "      --hover-fill-color: #FFFFFF;\n",
              "      --disabled-bg-color: #3B4455;\n",
              "      --disabled-fill-color: #666;\n",
              "  }\n",
              "\n",
              "  .colab-df-quickchart {\n",
              "    background-color: var(--bg-color);\n",
              "    border: none;\n",
              "    border-radius: 50%;\n",
              "    cursor: pointer;\n",
              "    display: none;\n",
              "    fill: var(--fill-color);\n",
              "    height: 32px;\n",
              "    padding: 0;\n",
              "    width: 32px;\n",
              "  }\n",
              "\n",
              "  .colab-df-quickchart:hover {\n",
              "    background-color: var(--hover-bg-color);\n",
              "    box-shadow: 0 1px 2px rgba(60, 64, 67, 0.3), 0 1px 3px 1px rgba(60, 64, 67, 0.15);\n",
              "    fill: var(--button-hover-fill-color);\n",
              "  }\n",
              "\n",
              "  .colab-df-quickchart-complete:disabled,\n",
              "  .colab-df-quickchart-complete:disabled:hover {\n",
              "    background-color: var(--disabled-bg-color);\n",
              "    fill: var(--disabled-fill-color);\n",
              "    box-shadow: none;\n",
              "  }\n",
              "\n",
              "  .colab-df-spinner {\n",
              "    border: 2px solid var(--fill-color);\n",
              "    border-color: transparent;\n",
              "    border-bottom-color: var(--fill-color);\n",
              "    animation:\n",
              "      spin 1s steps(1) infinite;\n",
              "  }\n",
              "\n",
              "  @keyframes spin {\n",
              "    0% {\n",
              "      border-color: transparent;\n",
              "      border-bottom-color: var(--fill-color);\n",
              "      border-left-color: var(--fill-color);\n",
              "    }\n",
              "    20% {\n",
              "      border-color: transparent;\n",
              "      border-left-color: var(--fill-color);\n",
              "      border-top-color: var(--fill-color);\n",
              "    }\n",
              "    30% {\n",
              "      border-color: transparent;\n",
              "      border-left-color: var(--fill-color);\n",
              "      border-top-color: var(--fill-color);\n",
              "      border-right-color: var(--fill-color);\n",
              "    }\n",
              "    40% {\n",
              "      border-color: transparent;\n",
              "      border-right-color: var(--fill-color);\n",
              "      border-top-color: var(--fill-color);\n",
              "    }\n",
              "    60% {\n",
              "      border-color: transparent;\n",
              "      border-right-color: var(--fill-color);\n",
              "    }\n",
              "    80% {\n",
              "      border-color: transparent;\n",
              "      border-right-color: var(--fill-color);\n",
              "      border-bottom-color: var(--fill-color);\n",
              "    }\n",
              "    90% {\n",
              "      border-color: transparent;\n",
              "      border-bottom-color: var(--fill-color);\n",
              "    }\n",
              "  }\n",
              "</style>\n",
              "\n",
              "      <script>\n",
              "        async function quickchart(key) {\n",
              "          const quickchartButtonEl =\n",
              "            document.querySelector('#' + key + ' button');\n",
              "          quickchartButtonEl.disabled = true;  // To prevent multiple clicks.\n",
              "          quickchartButtonEl.classList.add('colab-df-spinner');\n",
              "          try {\n",
              "            const charts = await google.colab.kernel.invokeFunction(\n",
              "                'suggestCharts', [key], {});\n",
              "          } catch (error) {\n",
              "            console.error('Error during call to suggestCharts:', error);\n",
              "          }\n",
              "          quickchartButtonEl.classList.remove('colab-df-spinner');\n",
              "          quickchartButtonEl.classList.add('colab-df-quickchart-complete');\n",
              "        }\n",
              "        (() => {\n",
              "          let quickchartButtonEl =\n",
              "            document.querySelector('#df-f310d8c8-64ce-45a7-a0f6-9189d786c315 button');\n",
              "          quickchartButtonEl.style.display =\n",
              "            google.colab.kernel.accessAllowed ? 'block' : 'none';\n",
              "        })();\n",
              "      </script>\n",
              "    </div>\n",
              "\n",
              "    </div>\n",
              "  </div>\n"
            ],
            "application/vnd.google.colaboratory.intrinsic+json": {
              "type": "dataframe",
              "variable_name": "data",
              "summary": "{\n  \"name\": \"data\",\n  \"rows\": 98401,\n  \"fields\": [\n    {\n      \"column\": \"headlines\",\n      \"properties\": {\n        \"dtype\": \"string\",\n        \"num_unique_values\": 98280,\n        \"samples\": [\n          \"Salman Khan asked to appear before court in Arms Act case\",\n          \"Man who beat Federer at Wimbledon once lost to AB de Villiers\",\n          \"Alwar lynching victim died of 'shock': Post-mortem report\"\n        ],\n        \"semantic_type\": \"\",\n        \"description\": \"\"\n      }\n    },\n    {\n      \"column\": \"text\",\n      \"properties\": {\n        \"dtype\": \"string\",\n        \"num_unique_values\": 98360,\n        \"samples\": [\n          \"Digital payments startup Paytm has raised $1.4 billion from SoftBank in India's largest funding round. This is also SoftBank's biggest investment in the Indian startup ecosystem till date. The latest investment by SoftBank will value Paytm at around $8 billion, up from its valuation of $4.8 billion in August 2016. \",\n          \"Oil companies on Thursday reduced the petrol price by \\u00e2\\u0082\\u00b91.12/litre and diesel by \\u00e2\\u0082\\u00b91.24/litre effective June 16. This is the first cut in prices following the decision to revise fuel prices daily and the revision shall be applicable from 6 AM to 6 AM the next day. Customers can know the revised prices through social media posts and 'Fuel@IOC' app.\",\n          \"The Indian Army has announced plans to deploy women officers for cyber warfare as they face cybersecurity threats from both state and non-state actors. In order to increase the number of female officers and provide them more opportunities, the Army is also planning to hire 850 of women in the military police branch and some in the language training branch.\"\n        ],\n        \"semantic_type\": \"\",\n        \"description\": \"\"\n      }\n    }\n  ]\n}"
            }
          },
          "metadata": {},
          "execution_count": 56
        }
      ]
    },
    {
      "cell_type": "code",
      "source": [
        "data = data[['headlines', 'text']]\n",
        "data.head()\n",
        "\n",
        "#랜덤한 15개 샘플 출력\n",
        "data.sample(15)"
      ],
      "metadata": {
        "colab": {
          "base_uri": "https://localhost:8080/",
          "height": 519
        },
        "id": "CHv1pzKDtteA",
        "outputId": "24575020-e665-4df0-ad6a-d46cca4c6c21"
      },
      "execution_count": 57,
      "outputs": [
        {
          "output_type": "execute_result",
          "data": {
            "text/plain": [
              "                                               headlines  \\\n",
              "25459  Mouni Roy to play Rajkummar Rao's wife in 'Mad...   \n",
              "53908  Actors also have a shelf life: 'Baahubali' act...   \n",
              "2786   US island offers â¹91.6 lakh to two people to...   \n",
              "33605  Iyer slams 10 sixes, hits 93*(40) in 1st match...   \n",
              "1875   Fortnite streamer buys Tesla car because Elon ...   \n",
              "61518  Given Triple Talaq on WhatsApp: AMU professor'...   \n",
              "19212  Apple's self-driving car gets involved in cras...   \n",
              "16987  57-yr-old director proposes to girlfriend whil...   \n",
              "49810  Indonesian province orders female flight crews...   \n",
              "89263  Yes Bank underreported bad loans by over â¹4,...   \n",
              "96971  Protect witnesses in Asaram case: SC to UP, Ha...   \n",
              "46469  Israel PM aide turns witness against him in co...   \n",
              "3424   China tells Army to be war-ready as world face...   \n",
              "35141  Govt to raise â¹500 note printing by 5 times ...   \n",
              "3294   Pujara's dad couldn't see his 193-run knock du...   \n",
              "\n",
              "                                                    text  \n",
              "25459  Actress Mouni Roy will be playing the role of ...  \n",
              "53908  'Baahubali' actor Prabhas has said that actors...  \n",
              "2786   An island in San Francisco Bay of the United S...  \n",
              "33605  Batting in his first match as the captain of D...  \n",
              "1875   Fortnite streamer Tfue, who pledged to buy a T...  \n",
              "61518  The wife of an Aligarh Muslim University profe...  \n",
              "19212  One of Apple's self-driving test cars was invo...  \n",
              "16987  57-year-old director Glenn Weiss proposed to h...  \n",
              "49810  The Indonesian province of Aceh has ordered Mu...  \n",
              "89263  Yes Bank on Friday reported that its non-perfo...  \n",
              "96971  The Supreme Court on Friday directed the Uttar...  \n",
              "46469  Israeli Prime Minister Benjamin Netanyahu's fo...  \n",
              "3424   Chinese President Xi Jinping has called upon t...  \n",
              "35141  Amid reports of cash shortage in certain state...  \n",
              "3294   India batsman Cheteshwar Pujara's father Arvin...  "
            ],
            "text/html": [
              "\n",
              "  <div id=\"df-e22edc2d-1ba7-4d05-9200-085719e5b030\" class=\"colab-df-container\">\n",
              "    <div>\n",
              "<style scoped>\n",
              "    .dataframe tbody tr th:only-of-type {\n",
              "        vertical-align: middle;\n",
              "    }\n",
              "\n",
              "    .dataframe tbody tr th {\n",
              "        vertical-align: top;\n",
              "    }\n",
              "\n",
              "    .dataframe thead th {\n",
              "        text-align: right;\n",
              "    }\n",
              "</style>\n",
              "<table border=\"1\" class=\"dataframe\">\n",
              "  <thead>\n",
              "    <tr style=\"text-align: right;\">\n",
              "      <th></th>\n",
              "      <th>headlines</th>\n",
              "      <th>text</th>\n",
              "    </tr>\n",
              "  </thead>\n",
              "  <tbody>\n",
              "    <tr>\n",
              "      <th>25459</th>\n",
              "      <td>Mouni Roy to play Rajkummar Rao's wife in 'Mad...</td>\n",
              "      <td>Actress Mouni Roy will be playing the role of ...</td>\n",
              "    </tr>\n",
              "    <tr>\n",
              "      <th>53908</th>\n",
              "      <td>Actors also have a shelf life: 'Baahubali' act...</td>\n",
              "      <td>'Baahubali' actor Prabhas has said that actors...</td>\n",
              "    </tr>\n",
              "    <tr>\n",
              "      <th>2786</th>\n",
              "      <td>US island offers â¹91.6 lakh to two people to...</td>\n",
              "      <td>An island in San Francisco Bay of the United S...</td>\n",
              "    </tr>\n",
              "    <tr>\n",
              "      <th>33605</th>\n",
              "      <td>Iyer slams 10 sixes, hits 93*(40) in 1st match...</td>\n",
              "      <td>Batting in his first match as the captain of D...</td>\n",
              "    </tr>\n",
              "    <tr>\n",
              "      <th>1875</th>\n",
              "      <td>Fortnite streamer buys Tesla car because Elon ...</td>\n",
              "      <td>Fortnite streamer Tfue, who pledged to buy a T...</td>\n",
              "    </tr>\n",
              "    <tr>\n",
              "      <th>61518</th>\n",
              "      <td>Given Triple Talaq on WhatsApp: AMU professor'...</td>\n",
              "      <td>The wife of an Aligarh Muslim University profe...</td>\n",
              "    </tr>\n",
              "    <tr>\n",
              "      <th>19212</th>\n",
              "      <td>Apple's self-driving car gets involved in cras...</td>\n",
              "      <td>One of Apple's self-driving test cars was invo...</td>\n",
              "    </tr>\n",
              "    <tr>\n",
              "      <th>16987</th>\n",
              "      <td>57-yr-old director proposes to girlfriend whil...</td>\n",
              "      <td>57-year-old director Glenn Weiss proposed to h...</td>\n",
              "    </tr>\n",
              "    <tr>\n",
              "      <th>49810</th>\n",
              "      <td>Indonesian province orders female flight crews...</td>\n",
              "      <td>The Indonesian province of Aceh has ordered Mu...</td>\n",
              "    </tr>\n",
              "    <tr>\n",
              "      <th>89263</th>\n",
              "      <td>Yes Bank underreported bad loans by over â¹4,...</td>\n",
              "      <td>Yes Bank on Friday reported that its non-perfo...</td>\n",
              "    </tr>\n",
              "    <tr>\n",
              "      <th>96971</th>\n",
              "      <td>Protect witnesses in Asaram case: SC to UP, Ha...</td>\n",
              "      <td>The Supreme Court on Friday directed the Uttar...</td>\n",
              "    </tr>\n",
              "    <tr>\n",
              "      <th>46469</th>\n",
              "      <td>Israel PM aide turns witness against him in co...</td>\n",
              "      <td>Israeli Prime Minister Benjamin Netanyahu's fo...</td>\n",
              "    </tr>\n",
              "    <tr>\n",
              "      <th>3424</th>\n",
              "      <td>China tells Army to be war-ready as world face...</td>\n",
              "      <td>Chinese President Xi Jinping has called upon t...</td>\n",
              "    </tr>\n",
              "    <tr>\n",
              "      <th>35141</th>\n",
              "      <td>Govt to raise â¹500 note printing by 5 times ...</td>\n",
              "      <td>Amid reports of cash shortage in certain state...</td>\n",
              "    </tr>\n",
              "    <tr>\n",
              "      <th>3294</th>\n",
              "      <td>Pujara's dad couldn't see his 193-run knock du...</td>\n",
              "      <td>India batsman Cheteshwar Pujara's father Arvin...</td>\n",
              "    </tr>\n",
              "  </tbody>\n",
              "</table>\n",
              "</div>\n",
              "    <div class=\"colab-df-buttons\">\n",
              "\n",
              "  <div class=\"colab-df-container\">\n",
              "    <button class=\"colab-df-convert\" onclick=\"convertToInteractive('df-e22edc2d-1ba7-4d05-9200-085719e5b030')\"\n",
              "            title=\"Convert this dataframe to an interactive table.\"\n",
              "            style=\"display:none;\">\n",
              "\n",
              "  <svg xmlns=\"http://www.w3.org/2000/svg\" height=\"24px\" viewBox=\"0 -960 960 960\">\n",
              "    <path d=\"M120-120v-720h720v720H120Zm60-500h600v-160H180v160Zm220 220h160v-160H400v160Zm0 220h160v-160H400v160ZM180-400h160v-160H180v160Zm440 0h160v-160H620v160ZM180-180h160v-160H180v160Zm440 0h160v-160H620v160Z\"/>\n",
              "  </svg>\n",
              "    </button>\n",
              "\n",
              "  <style>\n",
              "    .colab-df-container {\n",
              "      display:flex;\n",
              "      gap: 12px;\n",
              "    }\n",
              "\n",
              "    .colab-df-convert {\n",
              "      background-color: #E8F0FE;\n",
              "      border: none;\n",
              "      border-radius: 50%;\n",
              "      cursor: pointer;\n",
              "      display: none;\n",
              "      fill: #1967D2;\n",
              "      height: 32px;\n",
              "      padding: 0 0 0 0;\n",
              "      width: 32px;\n",
              "    }\n",
              "\n",
              "    .colab-df-convert:hover {\n",
              "      background-color: #E2EBFA;\n",
              "      box-shadow: 0px 1px 2px rgba(60, 64, 67, 0.3), 0px 1px 3px 1px rgba(60, 64, 67, 0.15);\n",
              "      fill: #174EA6;\n",
              "    }\n",
              "\n",
              "    .colab-df-buttons div {\n",
              "      margin-bottom: 4px;\n",
              "    }\n",
              "\n",
              "    [theme=dark] .colab-df-convert {\n",
              "      background-color: #3B4455;\n",
              "      fill: #D2E3FC;\n",
              "    }\n",
              "\n",
              "    [theme=dark] .colab-df-convert:hover {\n",
              "      background-color: #434B5C;\n",
              "      box-shadow: 0px 1px 3px 1px rgba(0, 0, 0, 0.15);\n",
              "      filter: drop-shadow(0px 1px 2px rgba(0, 0, 0, 0.3));\n",
              "      fill: #FFFFFF;\n",
              "    }\n",
              "  </style>\n",
              "\n",
              "    <script>\n",
              "      const buttonEl =\n",
              "        document.querySelector('#df-e22edc2d-1ba7-4d05-9200-085719e5b030 button.colab-df-convert');\n",
              "      buttonEl.style.display =\n",
              "        google.colab.kernel.accessAllowed ? 'block' : 'none';\n",
              "\n",
              "      async function convertToInteractive(key) {\n",
              "        const element = document.querySelector('#df-e22edc2d-1ba7-4d05-9200-085719e5b030');\n",
              "        const dataTable =\n",
              "          await google.colab.kernel.invokeFunction('convertToInteractive',\n",
              "                                                    [key], {});\n",
              "        if (!dataTable) return;\n",
              "\n",
              "        const docLinkHtml = 'Like what you see? Visit the ' +\n",
              "          '<a target=\"_blank\" href=https://colab.research.google.com/notebooks/data_table.ipynb>data table notebook</a>'\n",
              "          + ' to learn more about interactive tables.';\n",
              "        element.innerHTML = '';\n",
              "        dataTable['output_type'] = 'display_data';\n",
              "        await google.colab.output.renderOutput(dataTable, element);\n",
              "        const docLink = document.createElement('div');\n",
              "        docLink.innerHTML = docLinkHtml;\n",
              "        element.appendChild(docLink);\n",
              "      }\n",
              "    </script>\n",
              "  </div>\n",
              "\n",
              "\n",
              "    <div id=\"df-1675ff4d-4c64-4a94-88ee-1a09558d2a4c\">\n",
              "      <button class=\"colab-df-quickchart\" onclick=\"quickchart('df-1675ff4d-4c64-4a94-88ee-1a09558d2a4c')\"\n",
              "                title=\"Suggest charts\"\n",
              "                style=\"display:none;\">\n",
              "\n",
              "<svg xmlns=\"http://www.w3.org/2000/svg\" height=\"24px\"viewBox=\"0 0 24 24\"\n",
              "     width=\"24px\">\n",
              "    <g>\n",
              "        <path d=\"M19 3H5c-1.1 0-2 .9-2 2v14c0 1.1.9 2 2 2h14c1.1 0 2-.9 2-2V5c0-1.1-.9-2-2-2zM9 17H7v-7h2v7zm4 0h-2V7h2v10zm4 0h-2v-4h2v4z\"/>\n",
              "    </g>\n",
              "</svg>\n",
              "      </button>\n",
              "\n",
              "<style>\n",
              "  .colab-df-quickchart {\n",
              "      --bg-color: #E8F0FE;\n",
              "      --fill-color: #1967D2;\n",
              "      --hover-bg-color: #E2EBFA;\n",
              "      --hover-fill-color: #174EA6;\n",
              "      --disabled-fill-color: #AAA;\n",
              "      --disabled-bg-color: #DDD;\n",
              "  }\n",
              "\n",
              "  [theme=dark] .colab-df-quickchart {\n",
              "      --bg-color: #3B4455;\n",
              "      --fill-color: #D2E3FC;\n",
              "      --hover-bg-color: #434B5C;\n",
              "      --hover-fill-color: #FFFFFF;\n",
              "      --disabled-bg-color: #3B4455;\n",
              "      --disabled-fill-color: #666;\n",
              "  }\n",
              "\n",
              "  .colab-df-quickchart {\n",
              "    background-color: var(--bg-color);\n",
              "    border: none;\n",
              "    border-radius: 50%;\n",
              "    cursor: pointer;\n",
              "    display: none;\n",
              "    fill: var(--fill-color);\n",
              "    height: 32px;\n",
              "    padding: 0;\n",
              "    width: 32px;\n",
              "  }\n",
              "\n",
              "  .colab-df-quickchart:hover {\n",
              "    background-color: var(--hover-bg-color);\n",
              "    box-shadow: 0 1px 2px rgba(60, 64, 67, 0.3), 0 1px 3px 1px rgba(60, 64, 67, 0.15);\n",
              "    fill: var(--button-hover-fill-color);\n",
              "  }\n",
              "\n",
              "  .colab-df-quickchart-complete:disabled,\n",
              "  .colab-df-quickchart-complete:disabled:hover {\n",
              "    background-color: var(--disabled-bg-color);\n",
              "    fill: var(--disabled-fill-color);\n",
              "    box-shadow: none;\n",
              "  }\n",
              "\n",
              "  .colab-df-spinner {\n",
              "    border: 2px solid var(--fill-color);\n",
              "    border-color: transparent;\n",
              "    border-bottom-color: var(--fill-color);\n",
              "    animation:\n",
              "      spin 1s steps(1) infinite;\n",
              "  }\n",
              "\n",
              "  @keyframes spin {\n",
              "    0% {\n",
              "      border-color: transparent;\n",
              "      border-bottom-color: var(--fill-color);\n",
              "      border-left-color: var(--fill-color);\n",
              "    }\n",
              "    20% {\n",
              "      border-color: transparent;\n",
              "      border-left-color: var(--fill-color);\n",
              "      border-top-color: var(--fill-color);\n",
              "    }\n",
              "    30% {\n",
              "      border-color: transparent;\n",
              "      border-left-color: var(--fill-color);\n",
              "      border-top-color: var(--fill-color);\n",
              "      border-right-color: var(--fill-color);\n",
              "    }\n",
              "    40% {\n",
              "      border-color: transparent;\n",
              "      border-right-color: var(--fill-color);\n",
              "      border-top-color: var(--fill-color);\n",
              "    }\n",
              "    60% {\n",
              "      border-color: transparent;\n",
              "      border-right-color: var(--fill-color);\n",
              "    }\n",
              "    80% {\n",
              "      border-color: transparent;\n",
              "      border-right-color: var(--fill-color);\n",
              "      border-bottom-color: var(--fill-color);\n",
              "    }\n",
              "    90% {\n",
              "      border-color: transparent;\n",
              "      border-bottom-color: var(--fill-color);\n",
              "    }\n",
              "  }\n",
              "</style>\n",
              "\n",
              "      <script>\n",
              "        async function quickchart(key) {\n",
              "          const quickchartButtonEl =\n",
              "            document.querySelector('#' + key + ' button');\n",
              "          quickchartButtonEl.disabled = true;  // To prevent multiple clicks.\n",
              "          quickchartButtonEl.classList.add('colab-df-spinner');\n",
              "          try {\n",
              "            const charts = await google.colab.kernel.invokeFunction(\n",
              "                'suggestCharts', [key], {});\n",
              "          } catch (error) {\n",
              "            console.error('Error during call to suggestCharts:', error);\n",
              "          }\n",
              "          quickchartButtonEl.classList.remove('colab-df-spinner');\n",
              "          quickchartButtonEl.classList.add('colab-df-quickchart-complete');\n",
              "        }\n",
              "        (() => {\n",
              "          let quickchartButtonEl =\n",
              "            document.querySelector('#df-1675ff4d-4c64-4a94-88ee-1a09558d2a4c button');\n",
              "          quickchartButtonEl.style.display =\n",
              "            google.colab.kernel.accessAllowed ? 'block' : 'none';\n",
              "        })();\n",
              "      </script>\n",
              "    </div>\n",
              "\n",
              "    </div>\n",
              "  </div>\n"
            ],
            "application/vnd.google.colaboratory.intrinsic+json": {
              "type": "dataframe",
              "summary": "{\n  \"name\": \"data\",\n  \"rows\": 15,\n  \"fields\": [\n    {\n      \"column\": \"headlines\",\n      \"properties\": {\n        \"dtype\": \"string\",\n        \"num_unique_values\": 15,\n        \"samples\": [\n          \"Yes Bank underreported bad loans by over \\u00e2\\u0082\\u00b94,170 crore\",\n          \"Israel PM aide turns witness against him in corruption probe\",\n          \"Mouni Roy to play Rajkummar Rao's wife in 'Made In China'\"\n        ],\n        \"semantic_type\": \"\",\n        \"description\": \"\"\n      }\n    },\n    {\n      \"column\": \"text\",\n      \"properties\": {\n        \"dtype\": \"string\",\n        \"num_unique_values\": 15,\n        \"samples\": [\n          \"Yes Bank on Friday reported that its non-performing asset (NPA) classification varied with the RBI's to the tune of \\u00e2\\u0082\\u00b94,176 crore at the end of March 2016. Yes Bank had reported gross bad loans of \\u00e2\\u0082\\u00b9748.98 crore, compared to \\u00e2\\u0082\\u00b94,925 crore assessed by RBI. Yes Bank shares fell by 3.5% after the lender disclosed this information in its annual report.\",\n          \"Israeli Prime Minister Benjamin Netanyahu's former aide Shlomo Filber has turned a state witness in corruption cases against the PM. Filber was arrested over allegations that he had provided favours to the telecom company Bezeq in exchange for providing positive coverage of Netanyahu and his family. Netanyahu has been accused of receiving gifts and favours from business executives.\",\n          \"Actress Mouni Roy will be playing the role of Rajkummar Rao's wife in the upcoming film 'Made In China'. Rajkummar will play a struggling Gujarati businessman while Mouni will be seen as a Mumbai girl in the film. Directed by Mikhil Musale, the film will be shot in Mumbai, Gujarat and China.\"\n        ],\n        \"semantic_type\": \"\",\n        \"description\": \"\"\n      }\n    }\n  ]\n}"
            }
          },
          "metadata": {},
          "execution_count": 57
        }
      ]
    },
    {
      "cell_type": "code",
      "source": [
        "# headline에서 2개의 중복이 발견되네요. 헤드라인은 같을 수 있어도 텍스트 자체가 같은면 중복이므로 텍스트를 중복 체크해봐야겠어요.\n",
        "print('Text 열에서 중복을 배제한 유일한 샘플의 수 :', data['text'].nunique())\n",
        "print('headlines 열에서 중복을 배제한 유일한 샘플의 수 :', data['headlines'].nunique())"
      ],
      "metadata": {
        "colab": {
          "base_uri": "https://localhost:8080/"
        },
        "id": "dfqjWLtjt7Ld",
        "outputId": "7c416d68-5573-47f8-988c-ed707a2841d0"
      },
      "execution_count": 58,
      "outputs": [
        {
          "output_type": "stream",
          "name": "stdout",
          "text": [
            "Text 열에서 중복을 배제한 유일한 샘플의 수 : 98360\n",
            "headlines 열에서 중복을 배제한 유일한 샘플의 수 : 98280\n"
          ]
        }
      ]
    },
    {
      "cell_type": "code",
      "source": [
        "# inplace=True 를 설정하면 DataFrame 타입 값을 return 하지 않고 data 내부를 직접적으로 바꿉니다.\n",
        "data.drop_duplicates(subset = ['text'], inplace=True)\n",
        "print('전체 샘플수 :', (len(data)))"
      ],
      "metadata": {
        "colab": {
          "base_uri": "https://localhost:8080/"
        },
        "id": "ZMBtUQ2IuZyR",
        "outputId": "686063e6-df87-4c1c-acb8-eea78c9b76ea"
      },
      "execution_count": 59,
      "outputs": [
        {
          "output_type": "stream",
          "name": "stdout",
          "text": [
            "전체 샘플수 : 98360\n"
          ]
        }
      ]
    },
    {
      "cell_type": "code",
      "source": [
        "#널 값 확인해봐도 해당 사항 없네요.\n",
        "print(data.isnull().sum())"
      ],
      "metadata": {
        "colab": {
          "base_uri": "https://localhost:8080/"
        },
        "id": "jKJBIdH8vbgs",
        "outputId": "9550a928-5abd-4256-f55c-fa896e27ecc7"
      },
      "execution_count": 60,
      "outputs": [
        {
          "output_type": "stream",
          "name": "stdout",
          "text": [
            "headlines    0\n",
            "text         0\n",
            "dtype: int64\n"
          ]
        }
      ]
    },
    {
      "cell_type": "code",
      "source": [
        "contractions = {\"ain't\": \"is not\", \"aren't\": \"are not\",\"can't\": \"cannot\", \"'cause\": \"because\", \"could've\": \"could have\", \"couldn't\": \"could not\",\n",
        "                           \"didn't\": \"did not\",  \"doesn't\": \"does not\", \"don't\": \"do not\", \"hadn't\": \"had not\", \"hasn't\": \"has not\", \"haven't\": \"have not\",\n",
        "                           \"he'd\": \"he would\",\"he'll\": \"he will\", \"he's\": \"he is\", \"how'd\": \"how did\", \"how'd'y\": \"how do you\", \"how'll\": \"how will\", \"how's\": \"how is\",\n",
        "                           \"I'd\": \"I would\", \"I'd've\": \"I would have\", \"I'll\": \"I will\", \"I'll've\": \"I will have\",\"I'm\": \"I am\", \"I've\": \"I have\", \"i'd\": \"i would\",\n",
        "                           \"i'd've\": \"i would have\", \"i'll\": \"i will\",  \"i'll've\": \"i will have\",\"i'm\": \"i am\", \"i've\": \"i have\", \"isn't\": \"is not\", \"it'd\": \"it would\",\n",
        "                           \"it'd've\": \"it would have\", \"it'll\": \"it will\", \"it'll've\": \"it will have\",\"it's\": \"it is\", \"let's\": \"let us\", \"ma'am\": \"madam\",\n",
        "                           \"mayn't\": \"may not\", \"might've\": \"might have\",\"mightn't\": \"might not\",\"mightn't've\": \"might not have\", \"must've\": \"must have\",\n",
        "                           \"mustn't\": \"must not\", \"mustn't've\": \"must not have\", \"needn't\": \"need not\", \"needn't've\": \"need not have\",\"o'clock\": \"of the clock\",\n",
        "                           \"oughtn't\": \"ought not\", \"oughtn't've\": \"ought not have\", \"shan't\": \"shall not\", \"sha'n't\": \"shall not\", \"shan't've\": \"shall not have\",\n",
        "                           \"she'd\": \"she would\", \"she'd've\": \"she would have\", \"she'll\": \"she will\", \"she'll've\": \"she will have\", \"she's\": \"she is\",\n",
        "                           \"should've\": \"should have\", \"shouldn't\": \"should not\", \"shouldn't've\": \"should not have\", \"so've\": \"so have\",\"so's\": \"so as\",\n",
        "                           \"this's\": \"this is\",\"that'd\": \"that would\", \"that'd've\": \"that would have\", \"that's\": \"that is\", \"there'd\": \"there would\",\n",
        "                           \"there'd've\": \"there would have\", \"there's\": \"there is\", \"here's\": \"here is\",\"they'd\": \"they would\", \"they'd've\": \"they would have\",\n",
        "                           \"they'll\": \"they will\", \"they'll've\": \"they will have\", \"they're\": \"they are\", \"they've\": \"they have\", \"to've\": \"to have\",\n",
        "                           \"wasn't\": \"was not\", \"we'd\": \"we would\", \"we'd've\": \"we would have\", \"we'll\": \"we will\", \"we'll've\": \"we will have\", \"we're\": \"we are\",\n",
        "                           \"we've\": \"we have\", \"weren't\": \"were not\", \"what'll\": \"what will\", \"what'll've\": \"what will have\", \"what're\": \"what are\",\n",
        "                           \"what's\": \"what is\", \"what've\": \"what have\", \"when's\": \"when is\", \"when've\": \"when have\", \"where'd\": \"where did\", \"where's\": \"where is\",\n",
        "                           \"where've\": \"where have\", \"who'll\": \"who will\", \"who'll've\": \"who will have\", \"who's\": \"who is\", \"who've\": \"who have\",\n",
        "                           \"why's\": \"why is\", \"why've\": \"why have\", \"will've\": \"will have\", \"won't\": \"will not\", \"won't've\": \"will not have\",\n",
        "                           \"would've\": \"would have\", \"wouldn't\": \"would not\", \"wouldn't've\": \"would not have\", \"y'all\": \"you all\",\n",
        "                           \"y'all'd\": \"you all would\",\"y'all'd've\": \"you all would have\",\"y'all're\": \"you all are\",\"y'all've\": \"you all have\",\n",
        "                           \"you'd\": \"you would\", \"you'd've\": \"you would have\", \"you'll\": \"you will\", \"you'll've\": \"you will have\",\n",
        "                           \"you're\": \"you are\", \"you've\": \"you have\"}\n",
        "\n",
        "print(\"정규화 사전의 수: \", len(contractions))"
      ],
      "metadata": {
        "colab": {
          "base_uri": "https://localhost:8080/"
        },
        "id": "pUF2hazIvne_",
        "outputId": "3528ca5d-79a3-43a1-df9e-72d9b22f102c"
      },
      "execution_count": 61,
      "outputs": [
        {
          "output_type": "stream",
          "name": "stdout",
          "text": [
            "정규화 사전의 수:  120\n"
          ]
        }
      ]
    },
    {
      "cell_type": "code",
      "source": [
        "print('불용어 개수 :', len(stopwords.words('english') ))\n",
        "print(stopwords.words('english'))"
      ],
      "metadata": {
        "colab": {
          "base_uri": "https://localhost:8080/"
        },
        "id": "8xhFkhOFv7BB",
        "outputId": "4478dde2-e40a-4b7c-c19b-58cd65ce04ad"
      },
      "execution_count": 62,
      "outputs": [
        {
          "output_type": "stream",
          "name": "stdout",
          "text": [
            "불용어 개수 : 198\n",
            "['a', 'about', 'above', 'after', 'again', 'against', 'ain', 'all', 'am', 'an', 'and', 'any', 'are', 'aren', \"aren't\", 'as', 'at', 'be', 'because', 'been', 'before', 'being', 'below', 'between', 'both', 'but', 'by', 'can', 'couldn', \"couldn't\", 'd', 'did', 'didn', \"didn't\", 'do', 'does', 'doesn', \"doesn't\", 'doing', 'don', \"don't\", 'down', 'during', 'each', 'few', 'for', 'from', 'further', 'had', 'hadn', \"hadn't\", 'has', 'hasn', \"hasn't\", 'have', 'haven', \"haven't\", 'having', 'he', \"he'd\", \"he'll\", 'her', 'here', 'hers', 'herself', \"he's\", 'him', 'himself', 'his', 'how', 'i', \"i'd\", 'if', \"i'll\", \"i'm\", 'in', 'into', 'is', 'isn', \"isn't\", 'it', \"it'd\", \"it'll\", \"it's\", 'its', 'itself', \"i've\", 'just', 'll', 'm', 'ma', 'me', 'mightn', \"mightn't\", 'more', 'most', 'mustn', \"mustn't\", 'my', 'myself', 'needn', \"needn't\", 'no', 'nor', 'not', 'now', 'o', 'of', 'off', 'on', 'once', 'only', 'or', 'other', 'our', 'ours', 'ourselves', 'out', 'over', 'own', 're', 's', 'same', 'shan', \"shan't\", 'she', \"she'd\", \"she'll\", \"she's\", 'should', 'shouldn', \"shouldn't\", \"should've\", 'so', 'some', 'such', 't', 'than', 'that', \"that'll\", 'the', 'their', 'theirs', 'them', 'themselves', 'then', 'there', 'these', 'they', \"they'd\", \"they'll\", \"they're\", \"they've\", 'this', 'those', 'through', 'to', 'too', 'under', 'until', 'up', 've', 'very', 'was', 'wasn', \"wasn't\", 'we', \"we'd\", \"we'll\", \"we're\", 'were', 'weren', \"weren't\", \"we've\", 'what', 'when', 'where', 'which', 'while', 'who', 'whom', 'why', 'will', 'with', 'won', \"won't\", 'wouldn', \"wouldn't\", 'y', 'you', \"you'd\", \"you'll\", 'your', \"you're\", 'yours', 'yourself', 'yourselves', \"you've\"]\n"
          ]
        }
      ]
    },
    {
      "cell_type": "code",
      "source": [
        "# 데이터 전처리 함수\n",
        "def preprocess_sentence(sentence, remove_stopwords=True):\n",
        "    sentence = sentence.lower() # 텍스트 소문자화\n",
        "    sentence = BeautifulSoup(sentence, \"lxml\").text # <br />, <a href = ...> 등의 html 태그 제거\n",
        "    sentence = re.sub(r'\\([^)]*\\)', '', sentence) # 괄호로 닫힌 문자열 (...) 제거 Ex) my husband (and myself!) for => my husband for\n",
        "    sentence = re.sub('\"','', sentence) # 쌍따옴표 \" 제거\n",
        "    sentence = ' '.join([contractions[t] if t in contractions else t for t in sentence.split(\" \")]) # 약어 정규화\n",
        "    sentence = re.sub(r\"'s\\b\",\"\", sentence) # 소유격 제거. Ex) roland's -> roland\n",
        "    sentence = re.sub(\"[^a-zA-Z]\", \" \", sentence) # 영어 외 문자(숫자, 특수문자 등) 공백으로 변환\n",
        "    sentence = re.sub('[m]{2,}', 'mm', sentence) # m이 3개 이상이면 2개로 변경. Ex) ummmmmmm yeah -> umm yeah\n",
        "\n",
        "    # 불용어 제거 (Text)\n",
        "    if remove_stopwords:\n",
        "        tokens = ' '.join(word for word in sentence.split() if not word in stopwords.words('english') if len(word) > 1)\n",
        "    # 불용어 미제거 (Summary)\n",
        "    else:\n",
        "        tokens = ' '.join(word for word in sentence.split() if len(word) > 1)\n",
        "    return tokens\n",
        "print('=3')"
      ],
      "metadata": {
        "colab": {
          "base_uri": "https://localhost:8080/"
        },
        "id": "o3Zt0IeDwBJv",
        "outputId": "9042b159-1813-4002-8648-91af1e4de2be"
      },
      "execution_count": 63,
      "outputs": [
        {
          "output_type": "stream",
          "name": "stdout",
          "text": [
            "=3\n"
          ]
        }
      ]
    },
    {
      "cell_type": "code",
      "source": [
        "!pip install lxml"
      ],
      "metadata": {
        "colab": {
          "base_uri": "https://localhost:8080/"
        },
        "id": "4dglrosdxQZ-",
        "outputId": "7d3cbaa0-d805-45cb-adb0-1f249b716b25"
      },
      "execution_count": 64,
      "outputs": [
        {
          "output_type": "stream",
          "name": "stdout",
          "text": [
            "Requirement already satisfied: lxml in /usr/local/lib/python3.12/dist-packages (5.4.0)\n"
          ]
        }
      ]
    },
    {
      "cell_type": "code",
      "source": [
        "# 선별된 데이터 중 text 데이터에 대한 전처리 : 데이터량을 줄이니 처리속도가 훨씬 개선되네요. --> 다시 원복 함. 학습이 안된 느낌이 들어서\n",
        "clean_text = []\n",
        "\n",
        "for sentence in data['text']:\n",
        "    clean_text.append(preprocess_sentence(sentence))\n",
        "\n",
        "# 전처리 후 출력\n",
        "print(\"Text 전처리 후 결과: \", clean_text[:5])"
      ],
      "metadata": {
        "colab": {
          "base_uri": "https://localhost:8080/"
        },
        "id": "EvV_w7f_xqqY",
        "outputId": "9d106575-3e5f-4985-a567-50ae72a5f249"
      },
      "execution_count": 65,
      "outputs": [
        {
          "output_type": "stream",
          "name": "stdout",
          "text": [
            "Text 전처리 후 결과:  ['saurav kant alumnus upgrad iiit pg program machine learning artificial intelligence sr systems engineer infosys almost years work experience program upgrad degree career support helped transition data scientist tech mahindra salary hike upgrad online power learning powered lakh careers', 'kunal shah credit card bill payment platform cred gave users chance win free food swiggy one year pranav kaushik delhi techie bagged reward spending cred coins users get one cred coin per rupee bill paid used avail rewards brands like ixigo bookmyshow ubereats cult fit', 'new zealand defeated india wickets fourth odi hamilton thursday win first match five match odi series india lost international match rohit sharma captaincy consecutive victories dating back march match witnessed india getting seventh lowest total odi cricket history', 'aegon life iterm insurance plan customers enjoy tax benefits premiums paid save taxes plan provides life cover age years also customers options insure critical illnesses disability accidental death benefit rider life cover age years', 'speaking sexual harassment allegations rajkumar hirani sonam kapoor said known hirani many years true metoo movement get derailed metoo movement always believe woman case need reserve judgment added hirani accused assistant worked sanju']\n"
          ]
        }
      ]
    },
    {
      "cell_type": "code",
      "source": [
        "# 선별된 데이터 중  headline 데이터에 대한 전처리 : 데이터량을 줄이니 처리속도가 훨씬 개선되네요.\n",
        "clean_headlines = []\n",
        "\n",
        "for sentence in data['headlines']:\n",
        "    clean_headlines.append(preprocess_sentence(sentence, remove_stopwords=False))\n",
        "\n",
        "print(\"headlines 전처리 후 결과: \", clean_headlines[:5])"
      ],
      "metadata": {
        "colab": {
          "base_uri": "https://localhost:8080/"
        },
        "id": "XGOXhnr-yf-W",
        "outputId": "b02b21e1-31df-4f49-ec2d-59142a03f61a"
      },
      "execution_count": 66,
      "outputs": [
        {
          "output_type": "stream",
          "name": "stdout",
          "text": [
            "headlines 전처리 후 결과:  ['upgrad learner switches to career in ml al with salary hike', 'delhi techie wins free food from swiggy for one year on cred', 'new zealand end rohit sharma led india match winning streak', 'aegon life iterm insurance plan helps customers save tax', 'have known hirani for yrs what if metoo claims are not true sonam']\n"
          ]
        }
      ]
    },
    {
      "cell_type": "code",
      "source": [
        "# 정제 과정에서 널값이 된 데이터 가능성을 고려해서 작업해요\n",
        "data['text'] = clean_text\n",
        "data['headlines'] = clean_headlines\n",
        "\n",
        "# 빈 값을 Null 값으로 변환\n",
        "data.replace('', np.nan, inplace=True)\n",
        "print('=3')"
      ],
      "metadata": {
        "colab": {
          "base_uri": "https://localhost:8080/"
        },
        "id": "i0TaG5InzW86",
        "outputId": "689e62a0-5790-431f-8383-76dc2e064b92"
      },
      "execution_count": 67,
      "outputs": [
        {
          "output_type": "stream",
          "name": "stdout",
          "text": [
            "=3\n"
          ]
        }
      ]
    },
    {
      "cell_type": "code",
      "source": [
        "# 널 데이터는 없네\n",
        "data.isnull().sum()"
      ],
      "metadata": {
        "colab": {
          "base_uri": "https://localhost:8080/",
          "height": 147
        },
        "id": "6Vh_yBHJ1h6o",
        "outputId": "18793590-0025-45b0-cbff-c45cc5ea4b7c"
      },
      "execution_count": 68,
      "outputs": [
        {
          "output_type": "execute_result",
          "data": {
            "text/plain": [
              "headlines    0\n",
              "text         0\n",
              "dtype: int64"
            ],
            "text/html": [
              "<div>\n",
              "<style scoped>\n",
              "    .dataframe tbody tr th:only-of-type {\n",
              "        vertical-align: middle;\n",
              "    }\n",
              "\n",
              "    .dataframe tbody tr th {\n",
              "        vertical-align: top;\n",
              "    }\n",
              "\n",
              "    .dataframe thead th {\n",
              "        text-align: right;\n",
              "    }\n",
              "</style>\n",
              "<table border=\"1\" class=\"dataframe\">\n",
              "  <thead>\n",
              "    <tr style=\"text-align: right;\">\n",
              "      <th></th>\n",
              "      <th>0</th>\n",
              "    </tr>\n",
              "  </thead>\n",
              "  <tbody>\n",
              "    <tr>\n",
              "      <th>headlines</th>\n",
              "      <td>0</td>\n",
              "    </tr>\n",
              "    <tr>\n",
              "      <th>text</th>\n",
              "      <td>0</td>\n",
              "    </tr>\n",
              "  </tbody>\n",
              "</table>\n",
              "</div><br><label><b>dtype:</b> int64</label>"
            ]
          },
          "metadata": {},
          "execution_count": 68
        }
      ]
    },
    {
      "cell_type": "code",
      "source": [
        "# 길이 & 분포 출력\n",
        "import matplotlib.pyplot as plt\n",
        "\n",
        "text_len = [len(s.split()) for s in data['text']]\n",
        "headlines_len = [len(s.split()) for s in data['headlines']]\n",
        "\n",
        "print('텍스트의 최소 길이 : {}'.format(np.min(text_len)))\n",
        "print('텍스트의 최대 길이 : {}'.format(np.max(text_len)))\n",
        "print('텍스트의 평균 길이 : {}'.format(np.mean(text_len)))\n",
        "print('요약의 최소 길이 : {}'.format(np.min(headlines_len)))\n",
        "print('요약의 최대 길이 : {}'.format(np.max(headlines_len)))\n",
        "print('요약의 평균 길이 : {}'.format(np.mean(headlines_len)))\n",
        "\n",
        "plt.subplot(1,2,1)\n",
        "plt.boxplot(text_len)\n",
        "plt.title('text')\n",
        "plt.subplot(1,2,2)\n",
        "plt.boxplot(headlines_len)\n",
        "plt.title('headlines')\n",
        "plt.tight_layout()\n",
        "plt.show()\n",
        "\n",
        "plt.title('text')\n",
        "plt.hist(text_len, bins = 40)\n",
        "plt.xlabel('length of samples')\n",
        "plt.ylabel('number of samples')\n",
        "plt.show()\n",
        "\n",
        "plt.title('headlines')\n",
        "plt.hist(headlines_len, bins = 40)\n",
        "plt.xlabel('length of samples')\n",
        "plt.ylabel('number of samples')\n",
        "plt.show()"
      ],
      "metadata": {
        "colab": {
          "base_uri": "https://localhost:8080/",
          "height": 1000
        },
        "id": "xQ_P3F_s1kns",
        "outputId": "dffa2eb6-59db-4fb7-97cb-15769c15c7dc"
      },
      "execution_count": 69,
      "outputs": [
        {
          "output_type": "stream",
          "name": "stdout",
          "text": [
            "텍스트의 최소 길이 : 1\n",
            "텍스트의 최대 길이 : 60\n",
            "텍스트의 평균 길이 : 35.09968483123221\n",
            "요약의 최소 길이 : 1\n",
            "요약의 최대 길이 : 16\n",
            "요약의 평균 길이 : 9.299532330215534\n"
          ]
        },
        {
          "output_type": "display_data",
          "data": {
            "text/plain": [
              "<Figure size 640x480 with 2 Axes>"
            ],
            "image/png": "[encoded data removed]"
          },
          "metadata": {}
        },
        {
          "output_type": "display_data",
          "data": {
            "text/plain": [
              "<Figure size 640x480 with 1 Axes>"
            ],
            "image/png": "[encoded data removed]"
          },
          "metadata": {}
        },
        {
          "output_type": "display_data",
          "data": {
            "text/plain": [
              "<Figure size 640x480 with 1 Axes>"
            ],
            "image/png": "[encoded data removed]"
          },
          "metadata": {}
        }
      ]
    },
    {
      "cell_type": "code",
      "source": [
        "#임의로 데이터의 길이를 잡아봅니다.\n",
        "text_max_len = 45\n",
        "headlines_max_len = 14\n",
        "print('=3')"
      ],
      "metadata": {
        "colab": {
          "base_uri": "https://localhost:8080/"
        },
        "id": "O0QFLggM4v0g",
        "outputId": "0e92aed1-a183-4545-d962-2c42e88fec07"
      },
      "execution_count": 70,
      "outputs": [
        {
          "output_type": "stream",
          "name": "stdout",
          "text": [
            "=3\n"
          ]
        }
      ]
    },
    {
      "cell_type": "code",
      "source": [
        "def below_threshold_len(max_len, nested_list):\n",
        "  cnt = 0\n",
        "  for s in nested_list:\n",
        "    if(len(s.split()) <= max_len):\n",
        "        cnt = cnt + 1\n",
        "  print('전체 샘플 중 길이가 %s 이하인 샘플의 비율: %s'%(max_len, (cnt / len(nested_list))))\n",
        "print('=3')"
      ],
      "metadata": {
        "colab": {
          "base_uri": "https://localhost:8080/"
        },
        "id": "Jsf-U8GP3wKl",
        "outputId": "ee63d465-2801-487f-8c4b-95074ebb9d21"
      },
      "execution_count": 71,
      "outputs": [
        {
          "output_type": "stream",
          "name": "stdout",
          "text": [
            "=3\n"
          ]
        }
      ]
    },
    {
      "cell_type": "code",
      "source": [
        "# 대부분의 데이터를 포함하고 있네요\n",
        "below_threshold_len(text_max_len, data['text'])\n",
        "below_threshold_len(headlines_max_len, data['headlines'])"
      ],
      "metadata": {
        "colab": {
          "base_uri": "https://localhost:8080/"
        },
        "id": "pJ16WfZR4Vwo",
        "outputId": "79da83e8-abe3-4bd6-a865-3ecddb3c5fbb"
      },
      "execution_count": 72,
      "outputs": [
        {
          "output_type": "stream",
          "name": "stdout",
          "text": [
            "전체 샘플 중 길이가 45 이하인 샘플의 비율: 0.9967771451809678\n",
            "전체 샘플 중 길이가 14 이하인 샘플의 비율: 0.9997763318422123\n"
          ]
        }
      ]
    },
    {
      "cell_type": "code",
      "source": [
        "# text는 45보다 큰 경우, headlines 14 보다 큰 경우 제외하였습니다.\n",
        "data = data[data['text'].apply(lambda x: len(x.split()) <= text_max_len)]\n",
        "data = data[data['headlines'].apply(lambda x: len(x.split()) <= headlines_max_len)]\n",
        "\n",
        "print('전체 샘플수 :', (len(data)))"
      ],
      "metadata": {
        "colab": {
          "base_uri": "https://localhost:8080/"
        },
        "id": "_e_me-iq42na",
        "outputId": "eeb50b35-5872-4bd5-c87d-529cbfcd7033"
      },
      "execution_count": 73,
      "outputs": [
        {
          "output_type": "stream",
          "name": "stdout",
          "text": [
            "전체 샘플수 : 98021\n"
          ]
        }
      ]
    },
    {
      "cell_type": "code",
      "source": [
        "# healine 데이터에는 시작 토큰과 종료 토큰을 추가한다.\n",
        "data['decoder_input'] = data['headlines'].apply(lambda x : 'sostoken '+ x)\n",
        "data['decoder_target'] = data['headlines'].apply(lambda x : x + ' eostoken')\n",
        "data.head()"
      ],
      "metadata": {
        "colab": {
          "base_uri": "https://localhost:8080/",
          "height": 293
        },
        "id": "jqH5hDsc6YRw",
        "outputId": "d806bd05-7da2-4ac6-f2dd-58e22fb85bcd"
      },
      "execution_count": 74,
      "outputs": [
        {
          "output_type": "execute_result",
          "data": {
            "text/plain": [
              "                                           headlines  \\\n",
              "0  upgrad learner switches to career in ml al wit...   \n",
              "1  delhi techie wins free food from swiggy for on...   \n",
              "2  new zealand end rohit sharma led india match w...   \n",
              "3  aegon life iterm insurance plan helps customer...   \n",
              "4  have known hirani for yrs what if metoo claims...   \n",
              "\n",
              "                                                text  \\\n",
              "0  saurav kant alumnus upgrad iiit pg program mac...   \n",
              "1  kunal shah credit card bill payment platform c...   \n",
              "2  new zealand defeated india wickets fourth odi ...   \n",
              "3  aegon life iterm insurance plan customers enjo...   \n",
              "4  speaking sexual harassment allegations rajkuma...   \n",
              "\n",
              "                                       decoder_input  \\\n",
              "0  sostoken upgrad learner switches to career in ...   \n",
              "1  sostoken delhi techie wins free food from swig...   \n",
              "2  sostoken new zealand end rohit sharma led indi...   \n",
              "3  sostoken aegon life iterm insurance plan helps...   \n",
              "4  sostoken have known hirani for yrs what if met...   \n",
              "\n",
              "                                      decoder_target  \n",
              "0  upgrad learner switches to career in ml al wit...  \n",
              "1  delhi techie wins free food from swiggy for on...  \n",
              "2  new zealand end rohit sharma led india match w...  \n",
              "3  aegon life iterm insurance plan helps customer...  \n",
              "4  have known hirani for yrs what if metoo claims...  "
            ],
            "text/html": [
              "\n",
              "  <div id=\"df-43b5ece8-ee74-4ce9-b53b-1ac22a573915\" class=\"colab-df-container\">\n",
              "    <div>\n",
              "<style scoped>\n",
              "    .dataframe tbody tr th:only-of-type {\n",
              "        vertical-align: middle;\n",
              "    }\n",
              "\n",
              "    .dataframe tbody tr th {\n",
              "        vertical-align: top;\n",
              "    }\n",
              "\n",
              "    .dataframe thead th {\n",
              "        text-align: right;\n",
              "    }\n",
              "</style>\n",
              "<table border=\"1\" class=\"dataframe\">\n",
              "  <thead>\n",
              "    <tr style=\"text-align: right;\">\n",
              "      <th></th>\n",
              "      <th>headlines</th>\n",
              "      <th>text</th>\n",
              "      <th>decoder_input</th>\n",
              "      <th>decoder_target</th>\n",
              "    </tr>\n",
              "  </thead>\n",
              "  <tbody>\n",
              "    <tr>\n",
              "      <th>0</th>\n",
              "      <td>upgrad learner switches to career in ml al wit...</td>\n",
              "      <td>saurav kant alumnus upgrad iiit pg program mac...</td>\n",
              "      <td>sostoken upgrad learner switches to career in ...</td>\n",
              "      <td>upgrad learner switches to career in ml al wit...</td>\n",
              "    </tr>\n",
              "    <tr>\n",
              "      <th>1</th>\n",
              "      <td>delhi techie wins free food from swiggy for on...</td>\n",
              "      <td>kunal shah credit card bill payment platform c...</td>\n",
              "      <td>sostoken delhi techie wins free food from swig...</td>\n",
              "      <td>delhi techie wins free food from swiggy for on...</td>\n",
              "    </tr>\n",
              "    <tr>\n",
              "      <th>2</th>\n",
              "      <td>new zealand end rohit sharma led india match w...</td>\n",
              "      <td>new zealand defeated india wickets fourth odi ...</td>\n",
              "      <td>sostoken new zealand end rohit sharma led indi...</td>\n",
              "      <td>new zealand end rohit sharma led india match w...</td>\n",
              "    </tr>\n",
              "    <tr>\n",
              "      <th>3</th>\n",
              "      <td>aegon life iterm insurance plan helps customer...</td>\n",
              "      <td>aegon life iterm insurance plan customers enjo...</td>\n",
              "      <td>sostoken aegon life iterm insurance plan helps...</td>\n",
              "      <td>aegon life iterm insurance plan helps customer...</td>\n",
              "    </tr>\n",
              "    <tr>\n",
              "      <th>4</th>\n",
              "      <td>have known hirani for yrs what if metoo claims...</td>\n",
              "      <td>speaking sexual harassment allegations rajkuma...</td>\n",
              "      <td>sostoken have known hirani for yrs what if met...</td>\n",
              "      <td>have known hirani for yrs what if metoo claims...</td>\n",
              "    </tr>\n",
              "  </tbody>\n",
              "</table>\n",
              "</div>\n",
              "    <div class=\"colab-df-buttons\">\n",
              "\n",
              "  <div class=\"colab-df-container\">\n",
              "    <button class=\"colab-df-convert\" onclick=\"convertToInteractive('df-43b5ece8-ee74-4ce9-b53b-1ac22a573915')\"\n",
              "            title=\"Convert this dataframe to an interactive table.\"\n",
              "            style=\"display:none;\">\n",
              "\n",
              "  <svg xmlns=\"http://www.w3.org/2000/svg\" height=\"24px\" viewBox=\"0 -960 960 960\">\n",
              "    <path d=\"M120-120v-720h720v720H120Zm60-500h600v-160H180v160Zm220 220h160v-160H400v160Zm0 220h160v-160H400v160ZM180-400h160v-160H180v160Zm440 0h160v-160H620v160ZM180-180h160v-160H180v160Zm440 0h160v-160H620v160Z\"/>\n",
              "  </svg>\n",
              "    </button>\n",
              "\n",
              "  <style>\n",
              "    .colab-df-container {\n",
              "      display:flex;\n",
              "      gap: 12px;\n",
              "    }\n",
              "\n",
              "    .colab-df-convert {\n",
              "      background-color: #E8F0FE;\n",
              "      border: none;\n",
              "      border-radius: 50%;\n",
              "      cursor: pointer;\n",
              "      display: none;\n",
              "      fill: #1967D2;\n",
              "      height: 32px;\n",
              "      padding: 0 0 0 0;\n",
              "      width: 32px;\n",
              "    }\n",
              "\n",
              "    .colab-df-convert:hover {\n",
              "      background-color: #E2EBFA;\n",
              "      box-shadow: 0px 1px 2px rgba(60, 64, 67, 0.3), 0px 1px 3px 1px rgba(60, 64, 67, 0.15);\n",
              "      fill: #174EA6;\n",
              "    }\n",
              "\n",
              "    .colab-df-buttons div {\n",
              "      margin-bottom: 4px;\n",
              "    }\n",
              "\n",
              "    [theme=dark] .colab-df-convert {\n",
              "      background-color: #3B4455;\n",
              "      fill: #D2E3FC;\n",
              "    }\n",
              "\n",
              "    [theme=dark] .colab-df-convert:hover {\n",
              "      background-color: #434B5C;\n",
              "      box-shadow: 0px 1px 3px 1px rgba(0, 0, 0, 0.15);\n",
              "      filter: drop-shadow(0px 1px 2px rgba(0, 0, 0, 0.3));\n",
              "      fill: #FFFFFF;\n",
              "    }\n",
              "  </style>\n",
              "\n",
              "    <script>\n",
              "      const buttonEl =\n",
              "        document.querySelector('#df-43b5ece8-ee74-4ce9-b53b-1ac22a573915 button.colab-df-convert');\n",
              "      buttonEl.style.display =\n",
              "        google.colab.kernel.accessAllowed ? 'block' : 'none';\n",
              "\n",
              "      async function convertToInteractive(key) {\n",
              "        const element = document.querySelector('#df-43b5ece8-ee74-4ce9-b53b-1ac22a573915');\n",
              "        const dataTable =\n",
              "          await google.colab.kernel.invokeFunction('convertToInteractive',\n",
              "                                                    [key], {});\n",
              "        if (!dataTable) return;\n",
              "\n",
              "        const docLinkHtml = 'Like what you see? Visit the ' +\n",
              "          '<a target=\"_blank\" href=https://colab.research.google.com/notebooks/data_table.ipynb>data table notebook</a>'\n",
              "          + ' to learn more about interactive tables.';\n",
              "        element.innerHTML = '';\n",
              "        dataTable['output_type'] = 'display_data';\n",
              "        await google.colab.output.renderOutput(dataTable, element);\n",
              "        const docLink = document.createElement('div');\n",
              "        docLink.innerHTML = docLinkHtml;\n",
              "        element.appendChild(docLink);\n",
              "      }\n",
              "    </script>\n",
              "  </div>\n",
              "\n",
              "\n",
              "    <div id=\"df-8bab2d88-0582-4cf9-8ba1-6b28bf93bcff\">\n",
              "      <button class=\"colab-df-quickchart\" onclick=\"quickchart('df-8bab2d88-0582-4cf9-8ba1-6b28bf93bcff')\"\n",
              "                title=\"Suggest charts\"\n",
              "                style=\"display:none;\">\n",
              "\n",
              "<svg xmlns=\"http://www.w3.org/2000/svg\" height=\"24px\"viewBox=\"0 0 24 24\"\n",
              "     width=\"24px\">\n",
              "    <g>\n",
              "        <path d=\"M19 3H5c-1.1 0-2 .9-2 2v14c0 1.1.9 2 2 2h14c1.1 0 2-.9 2-2V5c0-1.1-.9-2-2-2zM9 17H7v-7h2v7zm4 0h-2V7h2v10zm4 0h-2v-4h2v4z\"/>\n",
              "    </g>\n",
              "</svg>\n",
              "      </button>\n",
              "\n",
              "<style>\n",
              "  .colab-df-quickchart {\n",
              "      --bg-color: #E8F0FE;\n",
              "      --fill-color: #1967D2;\n",
              "      --hover-bg-color: #E2EBFA;\n",
              "      --hover-fill-color: #174EA6;\n",
              "      --disabled-fill-color: #AAA;\n",
              "      --disabled-bg-color: #DDD;\n",
              "  }\n",
              "\n",
              "  [theme=dark] .colab-df-quickchart {\n",
              "      --bg-color: #3B4455;\n",
              "      --fill-color: #D2E3FC;\n",
              "      --hover-bg-color: #434B5C;\n",
              "      --hover-fill-color: #FFFFFF;\n",
              "      --disabled-bg-color: #3B4455;\n",
              "      --disabled-fill-color: #666;\n",
              "  }\n",
              "\n",
              "  .colab-df-quickchart {\n",
              "    background-color: var(--bg-color);\n",
              "    border: none;\n",
              "    border-radius: 50%;\n",
              "    cursor: pointer;\n",
              "    display: none;\n",
              "    fill: var(--fill-color);\n",
              "    height: 32px;\n",
              "    padding: 0;\n",
              "    width: 32px;\n",
              "  }\n",
              "\n",
              "  .colab-df-quickchart:hover {\n",
              "    background-color: var(--hover-bg-color);\n",
              "    box-shadow: 0 1px 2px rgba(60, 64, 67, 0.3), 0 1px 3px 1px rgba(60, 64, 67, 0.15);\n",
              "    fill: var(--button-hover-fill-color);\n",
              "  }\n",
              "\n",
              "  .colab-df-quickchart-complete:disabled,\n",
              "  .colab-df-quickchart-complete:disabled:hover {\n",
              "    background-color: var(--disabled-bg-color);\n",
              "    fill: var(--disabled-fill-color);\n",
              "    box-shadow: none;\n",
              "  }\n",
              "\n",
              "  .colab-df-spinner {\n",
              "    border: 2px solid var(--fill-color);\n",
              "    border-color: transparent;\n",
              "    border-bottom-color: var(--fill-color);\n",
              "    animation:\n",
              "      spin 1s steps(1) infinite;\n",
              "  }\n",
              "\n",
              "  @keyframes spin {\n",
              "    0% {\n",
              "      border-color: transparent;\n",
              "      border-bottom-color: var(--fill-color);\n",
              "      border-left-color: var(--fill-color);\n",
              "    }\n",
              "    20% {\n",
              "      border-color: transparent;\n",
              "      border-left-color: var(--fill-color);\n",
              "      border-top-color: var(--fill-color);\n",
              "    }\n",
              "    30% {\n",
              "      border-color: transparent;\n",
              "      border-left-color: var(--fill-color);\n",
              "      border-top-color: var(--fill-color);\n",
              "      border-right-color: var(--fill-color);\n",
              "    }\n",
              "    40% {\n",
              "      border-color: transparent;\n",
              "      border-right-color: var(--fill-color);\n",
              "      border-top-color: var(--fill-color);\n",
              "    }\n",
              "    60% {\n",
              "      border-color: transparent;\n",
              "      border-right-color: var(--fill-color);\n",
              "    }\n",
              "    80% {\n",
              "      border-color: transparent;\n",
              "      border-right-color: var(--fill-color);\n",
              "      border-bottom-color: var(--fill-color);\n",
              "    }\n",
              "    90% {\n",
              "      border-color: transparent;\n",
              "      border-bottom-color: var(--fill-color);\n",
              "    }\n",
              "  }\n",
              "</style>\n",
              "\n",
              "      <script>\n",
              "        async function quickchart(key) {\n",
              "          const quickchartButtonEl =\n",
              "            document.querySelector('#' + key + ' button');\n",
              "          quickchartButtonEl.disabled = true;  // To prevent multiple clicks.\n",
              "          quickchartButtonEl.classList.add('colab-df-spinner');\n",
              "          try {\n",
              "            const charts = await google.colab.kernel.invokeFunction(\n",
              "                'suggestCharts', [key], {});\n",
              "          } catch (error) {\n",
              "            console.error('Error during call to suggestCharts:', error);\n",
              "          }\n",
              "          quickchartButtonEl.classList.remove('colab-df-spinner');\n",
              "          quickchartButtonEl.classList.add('colab-df-quickchart-complete');\n",
              "        }\n",
              "        (() => {\n",
              "          let quickchartButtonEl =\n",
              "            document.querySelector('#df-8bab2d88-0582-4cf9-8ba1-6b28bf93bcff button');\n",
              "          quickchartButtonEl.style.display =\n",
              "            google.colab.kernel.accessAllowed ? 'block' : 'none';\n",
              "        })();\n",
              "      </script>\n",
              "    </div>\n",
              "\n",
              "    </div>\n",
              "  </div>\n"
            ],
            "application/vnd.google.colaboratory.intrinsic+json": {
              "type": "dataframe",
              "variable_name": "data",
              "summary": "{\n  \"name\": \"data\",\n  \"rows\": 98021,\n  \"fields\": [\n    {\n      \"column\": \"headlines\",\n      \"properties\": {\n        \"dtype\": \"string\",\n        \"num_unique_values\": 97829,\n        \"samples\": [\n          \"zlatan ibrahimovic trolls his own agent in instagram post\",\n          \"video of cop assaulting short film director goes viral\",\n          \"guess co founder paul marciano quits after kissing claims\"\n        ],\n        \"semantic_type\": \"\",\n        \"description\": \"\"\n      }\n    },\n    {\n      \"column\": \"text\",\n      \"properties\": {\n        \"dtype\": \"string\",\n        \"num_unique_values\": 97984,\n        \"samples\": [\n          \"arjun kapoor watching teaser alia bhatt ranveer singh starrer gully boy tweeted asli talent ki volcano zoya akhtar apna dil ka raja ranveer singh mini meryl alia bhatt arjun called alia mini meryl referring meryl streep academy award winning american actress nominated twenty one times\",\n          \"users reported pixel xl units displaying second virtual notch different sides display screen users claimed issue temporarily went away restarting phone changing developer settings responding reported issue google spokesperson confirmed fix coming soon\",\n          \"first full assessment risks world coffee plants found known species edge extinction due climate change deforestation diseases includes wild relative coffea arabica widely traded coffee said researchers majority commercial coffee beans blended arabica coffea robusta\"\n        ],\n        \"semantic_type\": \"\",\n        \"description\": \"\"\n      }\n    },\n    {\n      \"column\": \"decoder_input\",\n      \"properties\": {\n        \"dtype\": \"string\",\n        \"num_unique_values\": 97829,\n        \"samples\": [\n          \"sostoken zlatan ibrahimovic trolls his own agent in instagram post\",\n          \"sostoken video of cop assaulting short film director goes viral\",\n          \"sostoken guess co founder paul marciano quits after kissing claims\"\n        ],\n        \"semantic_type\": \"\",\n        \"description\": \"\"\n      }\n    },\n    {\n      \"column\": \"decoder_target\",\n      \"properties\": {\n        \"dtype\": \"string\",\n        \"num_unique_values\": 97829,\n        \"samples\": [\n          \"zlatan ibrahimovic trolls his own agent in instagram post eostoken\",\n          \"video of cop assaulting short film director goes viral eostoken\",\n          \"guess co founder paul marciano quits after kissing claims eostoken\"\n        ],\n        \"semantic_type\": \"\",\n        \"description\": \"\"\n      }\n    }\n  ]\n}"
            }
          },
          "metadata": {},
          "execution_count": 74
        }
      ]
    },
    {
      "cell_type": "code",
      "source": [
        "# 인코더의 입력, 디코더의 입력, 레이블을 넘피 타입으로 저장\n",
        "encoder_input = np.array(data['text']) # 인코더의 입력\n",
        "decoder_input = np.array(data['decoder_input']) # 디코더의 입력\n",
        "decoder_target = np.array(data['decoder_target']) # 디코더의 레이블\n",
        "print('=3')"
      ],
      "metadata": {
        "colab": {
          "base_uri": "https://localhost:8080/"
        },
        "id": "D-qTxDgF7QUw",
        "outputId": "8ace4fc7-0bc9-407d-db0e-dffe7f9bf7a5"
      },
      "execution_count": 75,
      "outputs": [
        {
          "output_type": "stream",
          "name": "stdout",
          "text": [
            "=3\n"
          ]
        }
      ]
    },
    {
      "cell_type": "code",
      "source": [
        "indices = np.arange(encoder_input.shape[0])\n",
        "np.random.shuffle(indices)\n",
        "print(indices)"
      ],
      "metadata": {
        "colab": {
          "base_uri": "https://localhost:8080/"
        },
        "id": "d84nGkm28GVn",
        "outputId": "0d1048c8-917d-4783-93db-401b7c128a64"
      },
      "execution_count": 76,
      "outputs": [
        {
          "output_type": "stream",
          "name": "stdout",
          "text": [
            "[95533 48938 60912 ... 59539 11844 24925]\n"
          ]
        }
      ]
    },
    {
      "cell_type": "code",
      "source": [
        "encoder_input = encoder_input[indices]\n",
        "decoder_input = decoder_input[indices]\n",
        "decoder_target = decoder_target[indices]\n",
        "print('=3')"
      ],
      "metadata": {
        "colab": {
          "base_uri": "https://localhost:8080/"
        },
        "id": "2GEUXpKu8caz",
        "outputId": "ca8b0eb6-4d82-48be-bb14-9d7935c2054c"
      },
      "execution_count": 77,
      "outputs": [
        {
          "output_type": "stream",
          "name": "stdout",
          "text": [
            "=3\n"
          ]
        }
      ]
    },
    {
      "cell_type": "code",
      "source": [
        "n_of_val = int(len(encoder_input)*0.2)\n",
        "print('테스트 데이터의 수 :', n_of_val)"
      ],
      "metadata": {
        "colab": {
          "base_uri": "https://localhost:8080/"
        },
        "id": "3Hvm9aGa84z0",
        "outputId": "3ed29600-15d6-49dc-a770-00ad73be6250"
      },
      "execution_count": 78,
      "outputs": [
        {
          "output_type": "stream",
          "name": "stdout",
          "text": [
            "테스트 데이터의 수 : 19604\n"
          ]
        }
      ]
    },
    {
      "cell_type": "code",
      "source": [
        "# 훈련 데이터와 테스트 데이터를 분리합니다. 잘 이해가 안되네.. 이 부분 체크해야겠다. 좀 더 이해를 하게되었음!\n",
        "encoder_input_train = encoder_input[:-n_of_val]\n",
        "decoder_input_train = decoder_input[:-n_of_val]\n",
        "decoder_target_train = decoder_target[:-n_of_val]\n",
        "\n",
        "encoder_input_test = encoder_input[-n_of_val:]\n",
        "decoder_input_test = decoder_input[-n_of_val:]\n",
        "decoder_target_test = decoder_target[-n_of_val:]\n",
        "\n",
        "print('훈련 데이터의 개수 :', len(encoder_input_train))\n",
        "print('훈련 레이블의 개수 :', len(decoder_input_train))\n",
        "print('테스트 데이터의 개수 :', len(encoder_input_test))\n",
        "print('테스트 레이블의 개수 :', len(decoder_input_test))"
      ],
      "metadata": {
        "colab": {
          "base_uri": "https://localhost:8080/"
        },
        "id": "ugH9bMEs9D8F",
        "outputId": "d07acee2-2e8f-4b73-b0e1-237d8264ec7f"
      },
      "execution_count": 79,
      "outputs": [
        {
          "output_type": "stream",
          "name": "stdout",
          "text": [
            "훈련 데이터의 개수 : 78417\n",
            "훈련 레이블의 개수 : 78417\n",
            "테스트 데이터의 개수 : 19604\n",
            "테스트 레이블의 개수 : 19604\n"
          ]
        }
      ]
    },
    {
      "cell_type": "code",
      "source": [
        "#훈련 데이터에 대한 단어 집합 만들기 - 함수 정의\n",
        "\n",
        "def src_tokenizer(text): # 토크나이저 정의\n",
        "    text = text.lower()  # 소문자로 변환\n",
        "    text = re.sub(r\"[^a-zA-Z0-9]+\", \" \", text)  # 특수문자 제거\n",
        "    return text.split()  # 공백 기준 토큰화\n",
        "\n",
        "def build_vocab(texts):\n",
        "    vocab = {\"<PAD>\": 0, \"<UNK>\": 1}  # 패딩과 UNK 토큰 추가\n",
        "    word_counter = Counter()\n",
        "\n",
        "    for text in texts:\n",
        "        word_counter.update(src_tokenizer(text))  # 단어 빈도수 계산\n",
        "\n",
        "    # 단어 집합 생성 (빈도가 높은 순서대로)\n",
        "    for word, _ in word_counter.most_common():\n",
        "        if word not in vocab:\n",
        "            vocab[word] = len(vocab)\n",
        "\n",
        "    return vocab\n",
        "\n",
        "src_vocab = build_vocab(encoder_input_train) # 입력된 데이터로부터 단어 집합 생성\n",
        "print('=3')"
      ],
      "metadata": {
        "colab": {
          "base_uri": "https://localhost:8080/"
        },
        "id": "0BpM9m_C9H6e",
        "outputId": "48f00e28-a1a2-418b-ae8e-feffd7f8ce54"
      },
      "execution_count": 80,
      "outputs": [
        {
          "output_type": "stream",
          "name": "stdout",
          "text": [
            "=3\n"
          ]
        }
      ]
    },
    {
      "cell_type": "code",
      "source": [
        "# 훈련 데이터에 text에 대한 단어 집합 분석\n",
        "\n",
        "threshold = 3\n",
        "\n",
        "# 전처리된 데이터 사용\n",
        "text_data = data['text'].tolist()\n",
        "headlines_data = data['headlines'].tolist()\n",
        "# 단어 빈도수 계산\n",
        "word_counter = Counter()\n",
        "for text in text_data:\n",
        "    word_counter.update(text.split())\n",
        "\n",
        "total_cnt = len(word_counter)  # 전체 단어 개수, text 영역에 대한 분석임\n",
        "total_freq = sum(word_counter.values())  # 전체 단어 등장 횟수\n",
        "rare_cnt = sum(1 for count in word_counter.values() if count < threshold)  # 희귀 단어 개수\n",
        "rare_freq = sum(count for count in word_counter.values() if count < threshold)  # 희귀 단어 등장 횟수\n",
        "\n",
        "# 희귀 단어를 제외한 단어 사전 구축\n",
        "vocab = {\"<PAD>\": 0, \"<UNK>\": 1}  # 패딩 및 미등록 단어 추가\n",
        "word_index = {word: idx + 2 for idx, (word, count) in enumerate(word_counter.items()) if count >= threshold}\n",
        "\n",
        "print('단어 집합(vocabulary)의 크기 :', total_cnt)\n",
        "print('등장 빈도가 %s번 이하인 희귀 단어의 수: %s'%(threshold - 1, rare_cnt))\n",
        "print('단어 집합에서 희귀 단어를 제외시킬 경우의 단어 집합의 크기 %s'%(total_cnt - rare_cnt))\n",
        "print(\"단어 집합에서 희귀 단어의 비율:\", (rare_cnt / total_cnt)*100)\n",
        "print(\"전체 등장 빈도에서 희귀 단어 등장 빈도 비율:\", (rare_freq / total_freq)*100)"
      ],
      "metadata": {
        "colab": {
          "base_uri": "https://localhost:8080/"
        },
        "id": "PnsTn7XF9yjC",
        "outputId": "2a324b52-7ddb-497e-d345-a805ae5b1a4e"
      },
      "execution_count": 81,
      "outputs": [
        {
          "output_type": "stream",
          "name": "stdout",
          "text": [
            "단어 집합(vocabulary)의 크기 : 76017\n",
            "등장 빈도가 2번 이하인 희귀 단어의 수: 37778\n",
            "단어 집합에서 희귀 단어를 제외시킬 경우의 단어 집합의 크기 38239\n",
            "단어 집합에서 희귀 단어의 비율: 49.69677835221069\n",
            "전체 등장 빈도에서 희귀 단어 등장 빈도 비율: 1.4100305697211364\n"
          ]
        }
      ]
    },
    {
      "cell_type": "markdown",
      "source": [
        "2번 이하로 나온 희귀단어의 비율이 높아서 제외시키는 것은 바람직하지 않아보이네요"
      ],
      "metadata": {
        "id": "V2zFEuC18IZA"
      }
    },
    {
      "cell_type": "code",
      "source": [
        "# 훈련 데이타 text를 대상 보캐를 구성함\n",
        "src_vocab_size = 76000 # 어림잡아 27000으로 조정합니다 --> 76000\n",
        "\n",
        "def build_limited_vocab(texts, vocab_size):\n",
        "    vocab = {\"<PAD>\": 0, \"<UNK>\": 1}  # 패딩과 UNK 토큰 추가\n",
        "    word_counter = Counter()\n",
        "\n",
        "    for text in texts:\n",
        "        word_counter.update(src_tokenizer(text))  # 단어 빈도수 계산\n",
        "\n",
        "    # 빈도가 높은 상위 vocab_size - 2개 단어만 선택 (PAD, UNK 포함)\n",
        "    for word, _ in word_counter.most_common(vocab_size - 2):\n",
        "        vocab[word] = len(vocab)\n",
        "\n",
        "    return vocab\n",
        "\n",
        "src_vocab = build_limited_vocab(encoder_input_train, src_vocab_size)\n",
        "print('=3')"
      ],
      "metadata": {
        "colab": {
          "base_uri": "https://localhost:8080/"
        },
        "id": "27Im9bZS_Pn0",
        "outputId": "99fa7b00-4a34-4f1d-c57b-b3fd84fc4480"
      },
      "execution_count": 82,
      "outputs": [
        {
          "output_type": "stream",
          "name": "stdout",
          "text": [
            "=3\n"
          ]
        }
      ]
    },
    {
      "cell_type": "code",
      "source": [
        "# 정수화\n",
        "def text_to_sequence(texts, vocab):\n",
        "    sequences = []\n",
        "    for text in texts:\n",
        "        sequence = [vocab.get(word, vocab[\"<UNK>\"]) for word in src_tokenizer(text)]\n",
        "        sequences.append(sequence)\n",
        "    return sequences\n",
        "\n",
        "# 텍스트 데이터 정수 시퀀스로 변환\n",
        "encoder_input_train_seq = text_to_sequence(encoder_input_train, src_vocab)\n",
        "encoder_input_test_seq = text_to_sequence(encoder_input_test, src_vocab)\n",
        "\n",
        "# 잘 진행되었는지 샘플 출력\n",
        "print(encoder_input_train_seq[:3])\n",
        "print(encoder_input_test_seq[:3])"
      ],
      "metadata": {
        "colab": {
          "base_uri": "https://localhost:8080/"
        },
        "id": "FZG4YFiQ_zjo",
        "outputId": "490da637-3742-427c-858f-350ce224acfe"
      },
      "execution_count": 83,
      "outputs": [
        {
          "output_type": "stream",
          "name": "stdout",
          "text": [
            "[[228, 4901, 8277, 605, 9280, 5577, 2826, 1332, 681, 2186, 10710, 178, 11, 1811, 6535, 8019, 241, 1864, 504, 3688, 2962, 107, 265, 1401, 5994, 9125, 4984, 16666, 502, 10, 897, 808, 294, 907], [179, 1932, 3236, 728, 215, 4597, 1051, 6315, 103, 122, 8400, 8670, 2, 3236, 628, 264, 165, 26288, 1969, 1112, 124, 85, 677, 1932, 25, 194, 1343, 18381, 2, 2196, 1275, 2423, 3236, 1761, 249, 5521, 198, 1422], [6172, 28, 9, 7243, 52, 6109, 208, 918, 82, 1364, 1815, 62, 69, 85, 207, 365, 2929, 52, 63, 9, 183, 1072, 1815, 145, 1126, 1526, 52, 810, 8532, 173, 1254, 2929, 6109, 208, 918]]\n",
            "[[4368, 4299, 122, 1090, 6874, 2, 321, 4402, 1723, 3783, 346, 1192, 890, 2063, 16342, 302, 5177, 250, 6874, 2, 273, 3721, 321, 3783, 346, 321, 1192, 1614, 8, 4, 273, 4350, 162], [1518, 38, 36, 12621, 3, 1311, 2329, 3, 10574, 12674, 11634, 47, 5169, 3812, 42, 437, 942, 1658, 2300, 619, 762, 942, 22624, 4827, 9557, 1311, 8594, 437, 5, 1677, 3894, 5882, 3812, 1256], [6, 365, 5667, 2378, 1238, 8350, 67496, 2, 983, 22, 1658, 7060, 285, 529, 204, 1257, 2005, 1099, 303, 1238, 1658, 254, 30, 2457, 67496, 5, 2, 2071, 1238, 3894, 1099, 11295, 1151, 3000, 184]]\n"
          ]
        }
      ]
    },
    {
      "cell_type": "code",
      "source": [
        "# headline 데이터에 대해서도 동일 토큰화 작업 (decoder_input!)\n",
        "\n",
        "def tar_tokenizer(text):\n",
        "    text = text.lower()  # 소문자로 변환\n",
        "    text = re.sub(r\"[^a-zA-Z0-9]+\", \" \", text)  # 특수문자 제거\n",
        "    return text.split()  # 공백 기준 토큰화\n",
        "\n",
        "tar_vocab = build_vocab(decoder_input_train)\n",
        "print('=3')"
      ],
      "metadata": {
        "colab": {
          "base_uri": "https://localhost:8080/"
        },
        "id": "yRKJRQrJ_4OD",
        "outputId": "ce14fdf1-6dce-4f09-bdcf-38ce2c7f1533"
      },
      "execution_count": 84,
      "outputs": [
        {
          "output_type": "stream",
          "name": "stdout",
          "text": [
            "=3\n"
          ]
        }
      ]
    },
    {
      "cell_type": "code",
      "source": [
        "# headline 데이터에 대해서도 동일 분포 분석 작업\n",
        "\n",
        "threshold = 3 # 동일 조건 적용\n",
        "\n",
        "word_counter = Counter()\n",
        "for text in decoder_input_train:\n",
        "    word_counter.update(tar_tokenizer(text))  # 각 문장의 단어 빈도 계산\n",
        "\n",
        "# 전체 단어 개수 및 등장 빈도 계산\n",
        "total_cnt = len(word_counter)  # 전체 단어 개수\n",
        "total_freq = sum(word_counter.values())  # 전체 단어 등장 횟수\n",
        "rare_cnt = sum(1 for count in word_counter.values() if count < threshold)  # 희귀 단어 개수\n",
        "rare_freq = sum(count for count in word_counter.values() if count < threshold)  # 희귀 단어 등장 횟수\n",
        "\n",
        "print('단어 집합(vocabulary)의 크기 :', total_cnt)\n",
        "print('등장 빈도가 %s번 이하인 희귀 단어의 수: %s'%(threshold - 1, rare_cnt))\n",
        "print('단어 집합에서 희귀 단어를 제외시킬 경우의 단어 집합의 크기 %s'%(total_cnt - rare_cnt))\n",
        "print(\"단어 집합에서 희귀 단어의 비율:\", (rare_cnt / total_cnt)*100)\n",
        "print(\"전체 등장 빈도에서 희귀 단어 등장 빈도 비율:\", (rare_freq / total_freq)*100)"
      ],
      "metadata": {
        "colab": {
          "base_uri": "https://localhost:8080/"
        },
        "id": "7Ey7DW7082RD",
        "outputId": "37b4b9df-5ab0-4e3e-9539-9d3984ffe7df"
      },
      "execution_count": 85,
      "outputs": [
        {
          "output_type": "stream",
          "name": "stdout",
          "text": [
            "단어 집합(vocabulary)의 크기 : 30051\n",
            "등장 빈도가 2번 이하인 희귀 단어의 수: 14650\n",
            "단어 집합에서 희귀 단어를 제외시킬 경우의 단어 집합의 크기 15401\n",
            "단어 집합에서 희귀 단어의 비율: 48.750457555489\n",
            "전체 등장 빈도에서 희귀 단어 등장 빈도 비율: 2.319703799098519\n"
          ]
        }
      ]
    },
    {
      "cell_type": "markdown",
      "source": [
        "동일 상황 희귀 단어가 많네요"
      ],
      "metadata": {
        "id": "EDmJmaUSAFTw"
      }
    },
    {
      "cell_type": "code",
      "source": [
        "# 어림잡아 보캡을  11000으로 설정해 줍니다. ---> 30000\n",
        "tar_vocab_size = 30000\n",
        "tar_vocab = build_limited_vocab(decoder_input_train + decoder_target_train, tar_vocab_size)\n",
        "\n",
        "# 텍스트 시퀀스를 정수 시퀀스로 변환\n",
        "decoder_input_train_seq = text_to_sequence(decoder_input_train, tar_vocab)\n",
        "decoder_target_train_seq = text_to_sequence(decoder_target_train, tar_vocab)\n",
        "decoder_input_test_seq = text_to_sequence(decoder_input_test, tar_vocab)\n",
        "decoder_target_test_seq = text_to_sequence(decoder_target_test, tar_vocab)\n",
        "\n",
        "# 잘 변환되었는지 확인\n",
        "print('input')\n",
        "print('input ',decoder_input_train_seq[:5])\n",
        "print('target')\n",
        "print('decoder ',decoder_target_train_seq[:5])"
      ],
      "metadata": {
        "colab": {
          "base_uri": "https://localhost:8080/"
        },
        "id": "ae0-Dgyh_mER",
        "outputId": "34893acb-413d-4a51-d449-94dfbcfb4beb"
      },
      "execution_count": 86,
      "outputs": [
        {
          "output_type": "stream",
          "name": "stdout",
          "text": [
            "input\n",
            "input  [[2, 1619, 785, 16, 67, 4, 155, 257, 14, 806, 2310, 1499], [2, 8809, 1894, 68, 21402, 2891, 4244, 75], [2, 309, 188, 126, 190, 683, 2412, 6, 65, 1990, 4, 35, 27], [2, 1311, 718, 4, 159, 186, 8, 832, 7770, 571, 1593, 39], [2, 1100, 634, 41, 4, 588, 213, 35, 148, 562, 15643, 2509]]\n",
            "target\n",
            "decoder  [[1619, 785, 16, 67, 4, 155, 257, 14, 806, 2310, 1499, 3], [8809, 1894, 68, 21402, 2891, 4244, 75, 3], [309, 188, 126, 190, 683, 2412, 6, 65, 1990, 4, 35, 27, 3], [1311, 718, 4, 159, 186, 8, 832, 7770, 571, 1593, 39, 3], [1100, 634, 41, 4, 588, 213, 35, 148, 562, 15643, 2509, 3]]\n"
          ]
        }
      ]
    },
    {
      "cell_type": "code",
      "source": [
        "# 혹시나 희귀 단어 삭제로 빈 샘플이 된 데이터가 있나 확인해 봄. 희귀 단어로 삭제한 샘플이 별로 없으므로 없을 것 예상됨.\n",
        "drop_train = [index for index, sentence in enumerate(decoder_input_train) if len(sentence) == 1]\n",
        "drop_test = [index for index, sentence in enumerate(decoder_input_test) if len(sentence) == 1]\n",
        "\n",
        "print('삭제할 훈련 데이터의 개수 :', len(drop_train))\n",
        "print('삭제할 테스트 데이터의 개수 :', len(drop_test))\n",
        "\n",
        "encoder_input_train = [sentence for index, sentence in enumerate(encoder_input_train) if index not in drop_train]\n",
        "decoder_input_train = [sentence for index, sentence in enumerate(decoder_input_train) if index not in drop_train]\n",
        "decoder_target_train = [sentence for index, sentence in enumerate(decoder_target_train) if index not in drop_train]\n",
        "\n",
        "encoder_input_test = [sentence for index, sentence in enumerate(encoder_input_test) if index not in drop_test]\n",
        "decoder_input_test = [sentence for index, sentence in enumerate(decoder_input_test) if index not in drop_test]\n",
        "decoder_target_test = [sentence for index, sentence in enumerate(decoder_target_test) if index not in drop_test]\n",
        "\n",
        "print('훈련 데이터의 개수 :', len(encoder_input_train))\n",
        "print('훈련 레이블의 개수 :', len(decoder_input_train))\n",
        "print('테스트 데이터의 개수 :', len(encoder_input_test))\n",
        "print('테스트 레이블의 개수 :', len(decoder_input_test))"
      ],
      "metadata": {
        "colab": {
          "base_uri": "https://localhost:8080/"
        },
        "id": "hvCKB-DsAz5Q",
        "outputId": "d06030c1-668f-434c-f68d-be057c6794a8"
      },
      "execution_count": 87,
      "outputs": [
        {
          "output_type": "stream",
          "name": "stdout",
          "text": [
            "삭제할 훈련 데이터의 개수 : 0\n",
            "삭제할 테스트 데이터의 개수 : 0\n",
            "훈련 데이터의 개수 : 78417\n",
            "훈련 레이블의 개수 : 78417\n",
            "테스트 데이터의 개수 : 19604\n",
            "테스트 레이블의 개수 : 19604\n"
          ]
        }
      ]
    },
    {
      "cell_type": "code",
      "source": [
        "# 패딩을 넣어줍니다\n",
        "from torch.nn.utils.rnn import pad_sequence\n",
        "\n",
        "# 텐서 변환 함수 (리스트 → PyTorch 텐서)\n",
        "def convert_to_tensor(sequences):\n",
        "    return [torch.tensor(seq, dtype=torch.long) for seq in sequences]\n",
        "\n",
        "# 패딩 적용 함수 (PyTorch `pad_sequence()` 활용)\n",
        "def pad_sequences_pytorch(sequences, maxlen, padding_value=0):\n",
        "    sequences = convert_to_tensor(sequences)  # 리스트를 텐서로 변환\n",
        "    padded_seqs = pad_sequence(sequences, batch_first=True, padding_value=padding_value)  # 패딩 적용\n",
        "    return padded_seqs[:, :maxlen]  # maxlen 길이로 자르기 (최대 길이 초과 방지)\n",
        "\n",
        "# 패딩 적용\n",
        "encoder_input_train = pad_sequences_pytorch(encoder_input_train_seq, maxlen=text_max_len)\n",
        "encoder_input_test = pad_sequences_pytorch(encoder_input_test_seq, maxlen=text_max_len)\n",
        "decoder_input_train = pad_sequences_pytorch(decoder_input_train_seq, maxlen=headlines_max_len)\n",
        "decoder_target_train = pad_sequences_pytorch(decoder_target_train_seq, maxlen=headlines_max_len)\n",
        "decoder_input_test = pad_sequences_pytorch(decoder_input_test_seq, maxlen=headlines_max_len)\n",
        "decoder_target_test = pad_sequences_pytorch(decoder_target_test_seq, maxlen=headlines_max_len)\n",
        "\n",
        "print('=3')"
      ],
      "metadata": {
        "colab": {
          "base_uri": "https://localhost:8080/"
        },
        "id": "jpIqR4aEBOux",
        "outputId": "e61da634-eb2a-41b9-8598-06b6c32c17af"
      },
      "execution_count": 88,
      "outputs": [
        {
          "output_type": "stream",
          "name": "stdout",
          "text": [
            "=3\n"
          ]
        }
      ]
    },
    {
      "cell_type": "markdown",
      "source": [
        "**Step 3**: 모델 설계 (어텐션 매커니즘 사용하기. 추상적 요약)"
      ],
      "metadata": {
        "id": "uGqqQ7rzAECX"
      }
    },
    {
      "cell_type": "code",
      "source": [
        "import torch.nn as nn\n",
        "import torch.nn.functional as F\n",
        "\n",
        "# 인코더 설계 시작\n",
        "embedding_dim = 128\n",
        "hidden_size = 256\n",
        "src_vocab_size = len(src_vocab)  # 단어 집합 크기\n",
        "\n",
        "# 인코더\n",
        "class Encoder(nn.Module):\n",
        "    def __init__(self, vocab_size, embedding_dim, hidden_size, num_layers=3, dropout=0.4):\n",
        "        super(Encoder, self).__init__()\n",
        "        self.embedding = nn.Embedding(vocab_size, embedding_dim)\n",
        "        self.lstm = nn.LSTM(\n",
        "            embedding_dim, hidden_size, num_layers=num_layers,\n",
        "            dropout=dropout, batch_first=True\n",
        "        )\n",
        "\n",
        "    def forward(self, x): # 인코더의 임베딩 층\n",
        "        embedded = self.embedding(x)\n",
        "        output, (hidden, cell) = self.lstm(embedded)  # LSTM 실행\n",
        "        return output, hidden, cell\n",
        "\n",
        "# 인코더 모델 생성\n",
        "encoder = Encoder(src_vocab_size, embedding_dim, hidden_size, num_layers=3, dropout=0.4)"
      ],
      "metadata": {
        "id": "wLV-98OzFDJC"
      },
      "execution_count": 89,
      "outputs": []
    },
    {
      "cell_type": "code",
      "source": [
        "# 디코더 설계\n",
        "class Decoder(nn.Module):\n",
        "    def __init__(self, vocab_size, embedding_dim, hidden_size, dropout=0.4, num_layers=3):\n",
        "        super(Decoder, self).__init__()\n",
        "        self.embedding = nn.Embedding(vocab_size, embedding_dim)\n",
        "        self.lstm = nn.LSTM(\n",
        "            embedding_dim, hidden_size, num_layers=num_layers, dropout=dropout,\n",
        "            batch_first=True\n",
        "        )\n",
        "\n",
        "    def forward(self, x, hidden, cell): # 디코더의 임베딩 층\n",
        "        embedded = self.embedding(x)\n",
        "        output, (hidden, cell) = self.lstm(embedded, (hidden, cell))  # 초기 상태를 인코더에서 전달받음\n",
        "        return output, hidden, cell\n",
        "\n",
        "# 디코더 모델 생성\n",
        "decoder = Decoder(tar_vocab_size, embedding_dim, hidden_size, num_layers=3, dropout=0.4)"
      ],
      "metadata": {
        "id": "veg4xElvFJRD"
      },
      "execution_count": 90,
      "outputs": []
    },
    {
      "cell_type": "code",
      "source": [
        "# 디코더의 출력층\n",
        "class Seq2Seq(nn.Module):\n",
        "    def __init__(self, encoder, decoder, vocab_size):\n",
        "        super(Seq2Seq, self).__init__()\n",
        "        self.encoder = encoder\n",
        "        self.decoder = decoder\n",
        "        self.softmax_layer = nn.Linear(hidden_size, vocab_size)  # 출력층 정의\n",
        "\n",
        "    def forward(self, encoder_input, decoder_input):\n",
        "        # 인코더 실행\n",
        "        encoder_output, hidden, cell = self.encoder(encoder_input)\n",
        "\n",
        "        # 디코더 실행\n",
        "        decoder_output, _, _ = self.decoder(decoder_input, hidden, cell)\n",
        "\n",
        "        # 출력층 적용 (Softmax는 Loss 내부에서 적용되므로 생략 가능)\n",
        "        output = self.softmax_layer(decoder_output)\n",
        "        return output\n",
        "\n",
        "# 모델 정의\n",
        "model = Seq2Seq(encoder, decoder, tar_vocab_size)\n",
        "print(model)"
      ],
      "metadata": {
        "colab": {
          "base_uri": "https://localhost:8080/"
        },
        "id": "RPxfCJScFPOX",
        "outputId": "313a04bf-ec2e-446d-995e-246831ea0ab4"
      },
      "execution_count": 91,
      "outputs": [
        {
          "output_type": "stream",
          "name": "stdout",
          "text": [
            "Seq2Seq(\n",
            "  (encoder): Encoder(\n",
            "    (embedding): Embedding(69321, 128)\n",
            "    (lstm): LSTM(128, 256, num_layers=3, batch_first=True, dropout=0.4)\n",
            "  )\n",
            "  (decoder): Decoder(\n",
            "    (embedding): Embedding(30000, 128)\n",
            "    (lstm): LSTM(128, 256, num_layers=3, batch_first=True, dropout=0.4)\n",
            "  )\n",
            "  (softmax_layer): Linear(in_features=256, out_features=30000, bias=True)\n",
            ")\n"
          ]
        }
      ]
    },
    {
      "cell_type": "code",
      "source": [
        "# 어텐션 메커니즘 적용\n",
        "class Attention_dot(nn.Module):\n",
        "    def __init__(self, hidden_size):\n",
        "        super(Attention_dot, self).__init__()\n",
        "        self.attn = nn.Linear(hidden_size, hidden_size)  # 어텐션 가중치\n",
        "        self.v = nn.Linear(hidden_size, 1, bias=False)  # 어텐션 가중치 벡터\n",
        "\n",
        "    def forward(self, decoder_output, encoder_outputs):\n",
        "        attn_weights = torch.bmm(decoder_output, encoder_outputs.transpose(1, 2))\n",
        "        attn_weights = F.softmax(attn_weights, dim=-1)  # 어텐션 가중치 정규화\n",
        "        attn_out = torch.bmm(attn_weights, encoder_outputs)\n",
        "\n",
        "        return attn_out\n",
        "\n",
        "class Seq2SeqWithAttention(nn.Module):\n",
        "    def __init__(self, encoder, decoder, vocab_size, hidden_size):\n",
        "        super(Seq2SeqWithAttention, self).__init__()\n",
        "        self.encoder = encoder\n",
        "        self.decoder = decoder\n",
        "        self.attention = Attention_dot(hidden_size)\n",
        "        self.concat = nn.Linear(hidden_size * 2, hidden_size)  # 어텐션 결합\n",
        "        self.output_layer = nn.Linear(hidden_size, vocab_size)  # 최종 출력층\n",
        "\n",
        "    def forward(self, encoder_input, decoder_input):\n",
        "        encoder_outputs, hidden, cell = self.encoder(encoder_input)\n",
        "        decoder_outputs, _, _ = self.decoder(decoder_input, hidden, cell)\n",
        "\n",
        "        # 어텐션 적용\n",
        "        attn_out = self.attention(decoder_outputs, encoder_outputs)\n",
        "\n",
        "        # 어텐션 결과와 디코더 출력 연결\n",
        "        decoder_concat_output = torch.cat((decoder_outputs, attn_out), dim=-1)\n",
        "\n",
        "        # 어텐션 결합 후 최종 출력\n",
        "        decoder_concat_output = torch.tanh(self.concat(decoder_concat_output))\n",
        "        output = self.output_layer(decoder_concat_output)\n",
        "\n",
        "        return output\n",
        "\n",
        "# 모델 생성\n",
        "model = Seq2SeqWithAttention(encoder, decoder, tar_vocab_size, hidden_size)\n",
        "print(model)"
      ],
      "metadata": {
        "colab": {
          "base_uri": "https://localhost:8080/"
        },
        "id": "n9vFV86HFY4c",
        "outputId": "7c01f354-b6f1-492f-b608-49b0ab51f1f3"
      },
      "execution_count": 92,
      "outputs": [
        {
          "output_type": "stream",
          "name": "stdout",
          "text": [
            "Seq2SeqWithAttention(\n",
            "  (encoder): Encoder(\n",
            "    (embedding): Embedding(69321, 128)\n",
            "    (lstm): LSTM(128, 256, num_layers=3, batch_first=True, dropout=0.4)\n",
            "  )\n",
            "  (decoder): Decoder(\n",
            "    (embedding): Embedding(30000, 128)\n",
            "    (lstm): LSTM(128, 256, num_layers=3, batch_first=True, dropout=0.4)\n",
            "  )\n",
            "  (attention): Attention_dot(\n",
            "    (attn): Linear(in_features=256, out_features=256, bias=True)\n",
            "    (v): Linear(in_features=256, out_features=1, bias=False)\n",
            "  )\n",
            "  (concat): Linear(in_features=512, out_features=256, bias=True)\n",
            "  (output_layer): Linear(in_features=256, out_features=30000, bias=True)\n",
            ")\n"
          ]
        }
      ]
    },
    {
      "cell_type": "code",
      "source": [
        "import torch.optim as optim\n",
        "from torch.utils.data import DataLoader, TensorDataset\n",
        "\n",
        "device = torch.device(\"cuda\" if torch.cuda.is_available() else \"cpu\")\n",
        "print(f\"Using device: {device}\")\n",
        "model.to(device)\n",
        "\n",
        "# Hyperparameters\n",
        "batch_size = 256\n",
        "epochs = 50\n",
        "learning_rate = 0.001\n",
        "patience = 2\n",
        "\n",
        "# 손실 함수 & 옵티마이저\n",
        "criterion = nn.CrossEntropyLoss(ignore_index=0)  # 패딩 토큰 무시\n",
        "optimizer = optim.AdamW(model.parameters(), lr=learning_rate)\n",
        "\n",
        "# PyTorch DataLoader 설정\n",
        "train_dataset = TensorDataset(encoder_input_train, decoder_input_train, decoder_target_train)\n",
        "test_dataset = TensorDataset(encoder_input_test, decoder_input_test, decoder_target_test)\n",
        "\n",
        "train_loader = DataLoader(train_dataset, batch_size=batch_size, shuffle=True)\n",
        "test_loader = DataLoader(test_dataset, batch_size=batch_size, shuffle=False)"
      ],
      "metadata": {
        "colab": {
          "base_uri": "https://localhost:8080/"
        },
        "id": "0noEhG_TFsAE",
        "outputId": "7e891d3d-3557-4343-df0d-8976af0438ab"
      },
      "execution_count": 93,
      "outputs": [
        {
          "output_type": "stream",
          "name": "stdout",
          "text": [
            "Using device: cuda\n"
          ]
        }
      ]
    },
    {
      "cell_type": "code",
      "source": [
        "train_losses = []\n",
        "val_losses = []\n",
        "\n",
        "# 학습 함수\n",
        "def train_model(model, train_loader, test_loader, criterion, optimizer, epochs, patience):\n",
        "    model.train()\n",
        "    best_val_loss = float('inf')\n",
        "    early_stop_counter = 0\n",
        "\n",
        "    for epoch in range(epochs):\n",
        "        total_loss = 0\n",
        "\n",
        "        for encoder_input, decoder_input, target in train_loader:\n",
        "            optimizer.zero_grad()\n",
        "\n",
        "            # 정수형 변환\n",
        "            encoder_input = encoder_input.to(device).long()\n",
        "            decoder_input = decoder_input.to(device).long()\n",
        "            target = target.to(device).long()\n",
        "\n",
        "            # 모델 실행\n",
        "            output = model(encoder_input, decoder_input)\n",
        "            output = output.view(-1, output.shape[-1])\n",
        "            target = target.view(-1)\n",
        "\n",
        "            loss = criterion(output, target)\n",
        "            loss.backward()\n",
        "            optimizer.step()\n",
        "            total_loss += loss.item()\n",
        "\n",
        "        avg_loss = total_loss / len(train_loader)\n",
        "        train_losses.append(avg_loss)\n",
        "\n",
        "        # Validation loss 계산\n",
        "        model.eval()\n",
        "        val_loss = 0\n",
        "        with torch.no_grad():\n",
        "            for encoder_input, decoder_input, target in test_loader:\n",
        "                encoder_input = encoder_input.to(device).long()\n",
        "                decoder_input = decoder_input.to(device).long()\n",
        "                target = target.to(device).long()\n",
        "\n",
        "                output = model(encoder_input, decoder_input)\n",
        "                output = output.view(-1, output.shape[-1])\n",
        "                target = target.view(-1)\n",
        "                loss = criterion(output, target)\n",
        "\n",
        "                val_loss += loss.item()\n",
        "\n",
        "        val_loss /= len(test_loader)\n",
        "        val_losses.append(val_loss)\n",
        "        print(f\"Epoch {epoch+1}/{epochs} | Train Loss: {avg_loss:.4f} | Val Loss: {val_loss:.4f}\")\n",
        "\n",
        "        # Early Stopping 조건\n",
        "        if val_loss < best_val_loss:\n",
        "            best_val_loss = val_loss\n",
        "            early_stop_counter = 0\n",
        "        else:\n",
        "            early_stop_counter += 1\n",
        "\n",
        "        if early_stop_counter >= patience:\n",
        "            print(f\"Early stopping triggered at epoch {epoch+1}\")\n",
        "            break\n",
        "\n",
        "        model.train()"
      ],
      "metadata": {
        "id": "zbVNXB58F9Rd"
      },
      "execution_count": 94,
      "outputs": []
    },
    {
      "cell_type": "code",
      "source": [
        "%%time\n",
        "# 30분 이상 시간이 걸릴 수 있습니다. GPU 환경에서 학습하는 것을 권장합니다.\n",
        "# 학습 실행\n",
        "train_model(model, train_loader, test_loader, criterion, optimizer, epochs=epochs, patience=patience)"
      ],
      "metadata": {
        "colab": {
          "base_uri": "https://localhost:8080/"
        },
        "id": "O1s7CgzLHzwj",
        "outputId": "a5f8f083-539c-4465-fcb3-0c1cede074ad"
      },
      "execution_count": 95,
      "outputs": [
        {
          "output_type": "stream",
          "name": "stdout",
          "text": [
            "Epoch 1/50 | Train Loss: 7.3552 | Val Loss: 6.9698\n",
            "Epoch 2/50 | Train Loss: 6.8734 | Val Loss: 6.5772\n",
            "Epoch 3/50 | Train Loss: 6.4513 | Val Loss: 6.1899\n",
            "Epoch 4/50 | Train Loss: 5.9929 | Val Loss: 5.7989\n",
            "Epoch 5/50 | Train Loss: 5.5939 | Val Loss: 5.5339\n",
            "Epoch 6/50 | Train Loss: 5.2748 | Val Loss: 5.3450\n",
            "Epoch 7/50 | Train Loss: 5.0147 | Val Loss: 5.2021\n",
            "Epoch 8/50 | Train Loss: 4.7943 | Val Loss: 5.1020\n",
            "Epoch 9/50 | Train Loss: 4.6007 | Val Loss: 5.0220\n",
            "Epoch 10/50 | Train Loss: 4.4250 | Val Loss: 4.9735\n",
            "Epoch 11/50 | Train Loss: 4.2703 | Val Loss: 4.9302\n",
            "Epoch 12/50 | Train Loss: 4.1273 | Val Loss: 4.8957\n",
            "Epoch 13/50 | Train Loss: 3.9951 | Val Loss: 4.8756\n",
            "Epoch 14/50 | Train Loss: 3.8734 | Val Loss: 4.8585\n",
            "Epoch 15/50 | Train Loss: 3.7588 | Val Loss: 4.8505\n",
            "Epoch 16/50 | Train Loss: 3.6556 | Val Loss: 4.8553\n",
            "Epoch 17/50 | Train Loss: 3.5548 | Val Loss: 4.8526\n",
            "Early stopping triggered at epoch 17\n",
            "CPU times: user 10min 46s, sys: 1.16 s, total: 10min 47s\n",
            "Wall time: 10min 55s\n"
          ]
        }
      ]
    },
    {
      "cell_type": "code",
      "source": [
        "plt.plot(range(len(train_losses)), train_losses, label='Train Loss')\n",
        "plt.plot(range(len(val_losses)), val_losses, label='Validation Loss')\n",
        "plt.legend()\n",
        "plt.xlabel(\"Epochs\")\n",
        "plt.ylabel(\"Loss\")\n",
        "plt.title(\"Training and Validation Loss\")\n",
        "plt.show()"
      ],
      "metadata": {
        "colab": {
          "base_uri": "https://localhost:8080/",
          "height": 472
        },
        "id": "oEBZrGhlH59a",
        "outputId": "4e241975-bc3e-4bec-91ac-139e62b9a66d"
      },
      "execution_count": 96,
      "outputs": [
        {
          "output_type": "display_data",
          "data": {
            "text/plain": [
              "<Figure size 640x480 with 1 Axes>"
            ],
            "image/png": "[encoded data removed]"
          },
          "metadata": {}
        }
      ]
    },
    {
      "cell_type": "markdown",
      "source": [
        "**Step 4**: 실제 결과와 요약문 비교하기 (추상적 요약)"
      ],
      "metadata": {
        "id": "Et48Uj0WJ9fY"
      }
    },
    {
      "cell_type": "markdown",
      "source": [],
      "metadata": {
        "id": "jPSnCi-0WScG"
      }
    },
    {
      "cell_type": "markdown",
      "metadata": {
        "id": "ba55e942"
      },
      "source": [
        "1)단어 집합 역변환 함수 정의\n",
        "\n",
        "정수 인덱스를 단어로 다시 매핑하기 위한 함수를 정의합니다.\n"
      ]
    },
    {
      "cell_type": "markdown",
      "metadata": {
        "id": "717de392"
      },
      "source": [
        "**Reasoning**:\n",
        "Define functions to map integer indices back to words for both target and source vocabularies.\n",
        "\n"
      ]
    },
    {
      "cell_type": "code",
      "metadata": {
        "colab": {
          "base_uri": "https://localhost:8080/"
        },
        "id": "6d9af9c8",
        "outputId": "05bfe27e-14a7-4bbb-8fb1-0d4a701d5d50"
      },
      "source": [
        "# 정수 시퀀스를 텍스트 시퀀스로 변환\n",
        "def decode_sequence(input_sequence):\n",
        "    # decoder_input = torch.tensor([[tar_vocab['sostoken']]], dtype=torch.long, device=device) # <sos> 토큰부터 시작\n",
        "\n",
        "    # Define reverse mapping for target and source vocabularies\n",
        "    reverse_target_word_index = {idx: word for word, idx in tar_vocab.items()}\n",
        "    reverse_source_word_index = {idx: word for word, idx in src_vocab.items()}\n",
        "\n",
        "    return reverse_source_word_index, reverse_target_word_index\n",
        "\n",
        "reverse_source_word_index, reverse_target_word_index = decode_sequence(None)\n",
        "print('=3')"
      ],
      "execution_count": 97,
      "outputs": [
        {
          "output_type": "stream",
          "name": "stdout",
          "text": [
            "=3\n"
          ]
        }
      ]
    },
    {
      "cell_type": "markdown",
      "metadata": {
        "id": "6377da0d"
      },
      "source": [
        "2)요약 생성 함수 구현\n",
        "\n",
        "### Subtask:\n",
        "학습된 Seq2Seq 모델을 사용하여 입력 텍스트로부터 요약을 생성하는 함수를 구현합니다. 이 함수는 디코딩 과정에서 시작 토큰과 종료 토큰을 사용합니다.\n"
      ]
    },
    {
      "cell_type": "markdown",
      "metadata": {
        "id": "1a536089"
      },
      "source": [
        "**Reasoning**:\n",
        "Implement the Seq2SeqWithAttention_Inference class including encode and decode methods to generate summaries based on the trained model.\n",
        "\n"
      ]
    },
    {
      "cell_type": "code",
      "metadata": {
        "colab": {
          "base_uri": "https://localhost:8080/"
        },
        "id": "a16fb49c",
        "outputId": "9c95efd8-2179-4f9b-840e-ed8f91fa42d2"
      },
      "source": [
        "class Seq2SeqWithAttention_Inference(nn.Module):\n",
        "    def __init__(self, encoder, decoder, vocab_size, hidden_size):\n",
        "        super(Seq2SeqWithAttention_Inference, self).__init__()\n",
        "        self.encoder = encoder\n",
        "        self.decoder = decoder\n",
        "        self.attention = Attention_dot(hidden_size)\n",
        "        self.concat = nn.Linear(hidden_size * 2, hidden_size)\n",
        "        self.output_layer = nn.Linear(hidden_size, vocab_size)\n",
        "\n",
        "    def encode(self, encoder_input):\n",
        "        # 인코더 실행 및 hidden, cell state 반환\n",
        "        _, hidden, cell = self.encoder(encoder_input)\n",
        "        return hidden, cell\n",
        "\n",
        "    def decode(self, decoder_input, hidden, cell, encoder_outputs):\n",
        "        # 디코더 실행\n",
        "        decoder_output, hidden, cell = self.decoder(decoder_input, hidden, cell)\n",
        "\n",
        "        # 어텐션 적용\n",
        "        attn_out = self.attention(decoder_output, encoder_outputs)\n",
        "\n",
        "        # 어텐션 결과와 디코더 출력 연결\n",
        "        decoder_concat_output = torch.cat((decoder_output, attn_out), dim=-1)\n",
        "\n",
        "        # 어텐션 결합 후 최종 출력\n",
        "        decoder_concat_output = torch.tanh(self.concat(decoder_concat_output))\n",
        "        output = self.output_layer(decoder_concat_output)\n",
        "\n",
        "        return output, hidden, cell\n",
        "\n",
        "# Inference 모델 생성 및 학습된 가중치 로드\n",
        "inference_model = Seq2SeqWithAttention_Inference(encoder, decoder, tar_vocab_size, hidden_size)\n",
        "inference_model.load_state_dict(model.state_dict())\n",
        "inference_model.to(device)\n",
        "inference_model.eval()\n",
        "\n",
        "print('=3')"
      ],
      "execution_count": 98,
      "outputs": [
        {
          "output_type": "stream",
          "name": "stdout",
          "text": [
            "=3\n"
          ]
        }
      ]
    },
    {
      "cell_type": "markdown",
      "metadata": {
        "id": "5e670e81"
      },
      "source": [
        "**Reasoning**:\n",
        "Implement the `generate_summary` function to generate a summary for a given input sequence using the inference model.\n",
        "\n"
      ]
    },
    {
      "cell_type": "code",
      "metadata": {
        "colab": {
          "base_uri": "https://localhost:8080/"
        },
        "id": "8280d126",
        "outputId": "8ad561a6-12a6-4125-b2ba-929bb2ed5e04"
      },
      "source": [
        "# 요약을 만들어봐라고 시킴\n",
        "def generate_summary(input_sequence):\n",
        "    input_sequence = input_sequence.unsqueeze(0).to(device).long() # 배치 차원 추가 및 디바이스 이동\n",
        "\n",
        "    # 인코더 실행하여 초기 hidden, cell state 얻기\n",
        "    with torch.no_grad():\n",
        "        encoder_outputs, hidden, cell = inference_model.encoder(input_sequence)\n",
        "\n",
        "    decoder_input = torch.tensor([[tar_vocab['sostoken']]], dtype=torch.long, device=device) # <sos> 토큰부터 시작\n",
        "    summary_sequence = []\n",
        "\n",
        "    for _ in range(headlines_max_len): # 최대 길이만큼 디코딩\n",
        "        with torch.no_grad():\n",
        "            output, hidden, cell = inference_model.decode(decoder_input, hidden, cell, encoder_outputs)\n",
        "\n",
        "        # 가장 확률 높은 다음 토큰 예측\n",
        "        topv, topi = output.data.topk(1)\n",
        "        next_token = topi.squeeze().detach()\n",
        "\n",
        "        if next_token.item() == tar_vocab['eostoken']: # <eos> 토큰 만나면 종료\n",
        "            break\n",
        "\n",
        "        summary_sequence.append(next_token.item())\n",
        "        decoder_input = next_token.unsqueeze(0).unsqueeze(0) # 다음 스텝의 입력으로 사용\n",
        "\n",
        "    # 정수 시퀀스를 텍스트로 변환\n",
        "    reverse_target_word_index = {idx: word for word, idx in tar_vocab.items()}\n",
        "    summary_text = ' '.join([reverse_target_word_index.get(token, '<UNK>') for token in summary_sequence])\n",
        "\n",
        "    return summary_text\n",
        "\n",
        "print('=3')"
      ],
      "execution_count": 99,
      "outputs": [
        {
          "output_type": "stream",
          "name": "stdout",
          "text": [
            "=3\n"
          ]
        }
      ]
    },
    {
      "cell_type": "markdown",
      "metadata": {
        "id": "b85c7b22"
      },
      "source": [
        "3)실제 결과와 요약문 비교\n",
        "\n",
        "### Subtask:\n",
        "원본 텍스트, 실제 헤드라인, 생성된 요약문을 나란히 출력하여 비교합니다.\n"
      ]
    },
    {
      "cell_type": "markdown",
      "metadata": {
        "id": "007d19ce"
      },
      "source": [
        "**Reasoning**:\n",
        "Select random indices from the test data, then iterate through them to generate summaries and print the original text, actual headline, and generated summary for comparison.\n",
        "\n"
      ]
    },
    {
      "cell_type": "code",
      "metadata": {
        "colab": {
          "base_uri": "https://localhost:8080/"
        },
        "id": "b488ef1c",
        "outputId": "6e7ad187-389a-4cb0-81eb-dc2ee5386d05"
      },
      "source": [
        "import random\n",
        "\n",
        "# Select 5 random indices from the test data for comparison\n",
        "random_indices = random.sample(range(len(encoder_input_test)), 5)\n",
        "\n",
        "print(\"--- Comparison of Abstractive Summaries for 5 Random Test Set Samples ---\")\n",
        "\n",
        "for i in random_indices:\n",
        "    original_text_sequence = encoder_input_test[i]\n",
        "    actual_headline_sequence = decoder_target_test[i]\n",
        "\n",
        "    # 실제 헤드라인 디코딩 (패딩 토큰 제외)\n",
        "    actual_headline = ' '.join([reverse_target_word_index.get(token.item(), '<UNK>') for token in actual_headline_sequence if token.item() != 0 and token.item() != tar_vocab['sostoken'] and token.item() != tar_vocab['eostoken']])\n",
        "\n",
        "    # 생성된 요약문 생성\n",
        "    generated_summary = generate_summary(original_text_sequence)\n",
        "\n",
        "    print(f\"--- Sample (Test Set Index) {i} ---\") # Print the test set index\n",
        "    # Find the original text for this test set sample for better context\n",
        "    # This requires mapping back to the original data, which can be complex.\n",
        "    # For simplicity here, we'll just show the processed text sequence.\n",
        "    print(\"Original Text (Processed Sequence):\", ' '.join([reverse_source_word_index.get(token.item(), '<UNK>') for token in original_text_sequence if token.item() != 0]))\n",
        "    print(\"Actual Headline:\", actual_headline)\n",
        "    print(\"Generated Summary:\", generated_summary)\n",
        "    print(\"-\" * 20)"
      ],
      "execution_count": 148,
      "outputs": [
        {
          "output_type": "stream",
          "name": "stdout",
          "text": [
            "--- Comparison of Abstractive Summaries for 5 Random Test Set Samples ---\n",
            "--- Sample (Test Set Index) 11847 ---\n",
            "Original Text (Processed Sequence): prime minister narendra modi watching live surgeries cattle experts indian veterinary research institute launch <UNK> arogya mela varanasi saturday <UNK> director said send field surgery team demonstrate surgeries extended ligament removal kidney stone goat <UNK> bovine cattle\n",
            "Actual Headline: pm modi to watch live cattle surgeries in varanasi\n",
            "Generated Summary: pm modi meets iaf crew to be established in andaman fest\n",
            "--------------------\n",
            "--- Sample (Test Set Index) 15191 ---\n",
            "Original Text (Processed Sequence): talking exploring talent bollywood prachi desai said industry give everyone due credit point added know long always look every project beginning prachi said though grateful got till still considers beginning\n",
            "Actual Headline: wood gives everyone their due credit at some point prachi\n",
            "Generated Summary: cannot work with people in the money industry on metoo\n",
            "--------------------\n",
            "--- Sample (Test Set Index) 3204 ---\n",
            "Original Text (Processed Sequence): dinesh karthik slammed help india win recently concluded tri series final said owes everything mumbai rounder abhishek nayar karthik added nayar represented india odis sole man responsible improvement batting guru last years karthik said\n",
            "Actual Headline: owe everything to abhishek nayar dinesh karthik\n",
            "Generated Summary: ashwin is the best rounder ashwin on india win final\n",
            "--------------------\n",
            "--- Sample (Test Set Index) 11612 ---\n",
            "Original Text (Processed Sequence): year old japanese man married hologram animated singer named <UNK> <UNK> saying cheat age die <UNK> <UNK> living talking hologram <UNK> floats desktop device since march <UNK> spent formal marriage ceremony tokyo hall\n",
            "Actual Headline: japanese man marries hologram says it does not cheat age or die\n",
            "Generated Summary: man creates engagement with harry potter in space\n",
            "--------------------\n",
            "--- Sample (Test Set Index) 19103 ---\n",
            "Original Text (Processed Sequence): bcci reiterated directive states cricketer found guilty tampering date birth face two year ban participating bcci tournament period years india coach former great rahul dravid talked topic mak pataudi lecture around three years back\n",
            "Actual Headline: bcci to ban cricketers guilty of tampering date of birth\n",
            "Generated Summary: bcci to be given to jail for not paying to women bcci\n",
            "--------------------\n"
          ]
        }
      ]
    },
    {
      "cell_type": "markdown",
      "source": [
        "요약\n",
        "\n",
        "1) 본문과 헤드라인의 관계를 활용하여 학습시키고 어텐션을 활용한 인퍼런스로 추상적 요약을 시도하였다.\n",
        "2) 성공적으로 결과를 도출하였다. 처음에는 10,000 샘플 숫자를 제한했을때 거의 학습이 이루어지지 않았으나 전체 샘플을 거의 활용하였을때는 학습 개선이 이루어져서 결과를 비교해 볼 수 있었다.\n",
        "3) 내용을 비교하기에는 인도 특유의 단어서 많아서 쉽지 않았으나, 대체로 관련된 핵심단어 단어들을 생성하고 있음을 알 수 있었다."
      ],
      "metadata": {
        "id": "ZsLfH4xiXIAw"
      }
    },
    {
      "cell_type": "markdown",
      "source": [
        "**step 5**: summa로 추출적 요약 시행"
      ],
      "metadata": {
        "id": "-fn83kZmxro8"
      }
    },
    {
      "cell_type": "code",
      "metadata": {
        "colab": {
          "base_uri": "https://localhost:8080/"
        },
        "id": "44813834",
        "outputId": "4b877a28-b97b-4503-b15e-c77344eac843"
      },
      "source": [
        "from summa import summarizer\n",
        "import pandas as pd\n",
        "\n",
        "# Load the original data again to get the unprocessed text\n",
        "data_original = pd.read_csv('/content/news_summary_more.csv', encoding='iso-8859-1')\n",
        "\n",
        "# Get the text for samples\n",
        "sample_indices = [0, 1, 2, 3, 4, 5, 6, 8, 9] # Using the tuple of indices from the error\n",
        "\n",
        "for sample_index in sample_indices:\n",
        "    if sample_index < len(data_original):\n",
        "        text_to_summarize = data_original['text'].iloc[sample_index]\n",
        "\n",
        "        # Generate extractive summary using summa\n",
        "        extractive_summary = summarizer.summarize(text_to_summarize, words=30) # You can adjust 'words' or use 'ratio'\n",
        "\n",
        "        print(f\"--- Extractive Summary for Sample {sample_index} ---\")\n",
        "        print(\"Original Text:\")\n",
        "        print(text_to_summarize)\n",
        "        print(\"\\nExtractive Summary (Summa):\")\n",
        "        print(extractive_summary)\n",
        "        print(\"-\" * 20) # Add separator for clarity\n",
        "    else:\n",
        "        print(f\"Sample index {sample_index} is out of bounds for the original data.\")"
      ],
      "execution_count": 142,
      "outputs": [
        {
          "output_type": "stream",
          "name": "stdout",
          "text": [
            "--- Extractive Summary for Sample 0 ---\n",
            "Original Text:\n",
            "Saurav Kant, an alumnus of upGrad and IIIT-B's PG Program in Machine learning and Artificial Intelligence, was a Sr Systems Engineer at Infosys with almost 5 years of work experience. The program and upGrad's 360-degree career support helped him transition to a Data Scientist at Tech Mahindra with 90% salary hike. upGrad's Online Power Learning has powered 3 lakh+ careers.\n",
            "\n",
            "Extractive Summary (Summa):\n",
            "The program and upGrad's 360-degree career support helped him transition to a Data Scientist at Tech Mahindra with 90% salary hike.\n",
            "upGrad's Online Power Learning has powered 3 lakh+ careers.\n",
            "--------------------\n",
            "--- Extractive Summary for Sample 1 ---\n",
            "Original Text:\n",
            "Kunal Shah's credit card bill payment platform, CRED, gave users a chance to win free food from Swiggy for one year. Pranav Kaushik, a Delhi techie, bagged this reward after spending 2000 CRED coins. Users get one CRED coin per rupee of bill paid, which can be used to avail rewards from brands like Ixigo, BookMyShow, UberEats, Cult.Fit and more.\n",
            "\n",
            "Extractive Summary (Summa):\n",
            "Users get one CRED coin per rupee of bill paid, which can be used to avail rewards from brands like Ixigo, BookMyShow, UberEats, Cult.Fit and more.\n",
            "--------------------\n",
            "--- Extractive Summary for Sample 2 ---\n",
            "Original Text:\n",
            "New Zealand defeated India by 8 wickets in the fourth ODI at Hamilton on Thursday to win their first match of the five-match ODI series. India lost an international match under Rohit Sharma's captaincy after 12 consecutive victories dating back to March 2018. The match witnessed India getting all out for 92, their seventh lowest total in ODI cricket history.\n",
            "\n",
            "Extractive Summary (Summa):\n",
            "New Zealand defeated India by 8 wickets in the fourth ODI at Hamilton on Thursday to win their first match of the five-match ODI series.\n",
            "The match witnessed India getting all out for 92, their seventh lowest total in ODI cricket history.\n",
            "--------------------\n",
            "--- Extractive Summary for Sample 3 ---\n",
            "Original Text:\n",
            "With Aegon Life iTerm Insurance plan, customers can enjoy tax benefits on your premiums paid and save up to Ã¢ÂÂ¹46,800^ on taxes. The plan provides life cover up to the age of 100 years. Also, customers have options to insure against Critical Illnesses, Disability and Accidental Death Benefit Rider with a life cover up to the age of 80 years.\n",
            "\n",
            "Extractive Summary (Summa):\n",
            "Also, customers have options to insure against Critical Illnesses, Disability and Accidental Death Benefit Rider with a life cover up to the age of 80 years.\n",
            "--------------------\n",
            "--- Extractive Summary for Sample 4 ---\n",
            "Original Text:\n",
            "Speaking about the sexual harassment allegations against Rajkumar Hirani, Sonam Kapoor said, \"I've known Hirani for many years...What if it's not true, the [#MeToo] movement will get derailed.\" \"In the #MeToo movement, I always believe a woman. But in this case, we need to reserve our judgment,\" she added. Hirani has been accused by an assistant who worked in 'Sanju'.\n",
            "\n",
            "Extractive Summary (Summa):\n",
            "Speaking about the sexual harassment allegations against Rajkumar Hirani, Sonam Kapoor said, \"I've known Hirani for many years...What if it's not true, the [#MeToo] movement will get derailed.\" \"In the #MeToo movement, I always believe a woman.\n",
            "--------------------\n",
            "--- Extractive Summary for Sample 5 ---\n",
            "Original Text:\n",
            "Pakistani singer Rahat Fateh Ali Khan has denied receiving any notice from the Enforcement Directorate over allegedly smuggling foreign currency out of India. \"It would have been better if the authorities would have served the notice first if any and then publicised this,\" reads a press release issued on behalf of Rahat. The statement further called the allegation \"bizarre\".\n",
            "\n",
            "Extractive Summary (Summa):\n",
            "Pakistani singer Rahat Fateh Ali Khan has denied receiving any notice from the Enforcement Directorate over allegedly smuggling foreign currency out of India.\n",
            "--------------------\n",
            "--- Extractive Summary for Sample 6 ---\n",
            "Original Text:\n",
            "India recorded their lowest ODI total in New Zealand after getting all out for 92 runs in 30.5 overs in the fourth ODI at Hamilton on Thursday. Seven of India's batsmen were dismissed for single-digit scores, while their number ten batsman Yuzvendra Chahal top-scored with 18*(37). India's previous lowest ODI total in New Zealand was 108.\n",
            "\n",
            "Extractive Summary (Summa):\n",
            "India recorded their lowest ODI total in New Zealand after getting all out for 92 runs in 30.5 overs in the fourth ODI at Hamilton on Thursday.\n",
            "India's previous lowest ODI total in New Zealand was 108.\n",
            "--------------------\n",
            "--- Extractive Summary for Sample 8 ---\n",
            "Original Text:\n",
            "Andhra Pradesh CM N Chandrababu Naidu has said, \"When I met then US President Bill Clinton, I addressed him as Mr Clinton, not as 'sir'. (PM Narendra) Modi is my junior in politics...I addressed him as sir 10 times.\" \"I did this...to satisfy his ego in the hope that he will do justice to the state,\" he added.\n",
            "\n",
            "Extractive Summary (Summa):\n",
            "Andhra Pradesh CM N Chandrababu Naidu has said, \"When I met then US President Bill Clinton, I addressed him as Mr Clinton, not as 'sir'.\n",
            "--------------------\n",
            "--- Extractive Summary for Sample 9 ---\n",
            "Original Text:\n",
            "Congress candidate Shafia Zubair won the Ramgarh Assembly seat in Rajasthan, by defeating BJP's Sukhwant Singh with a margin of 12,228 votes in the bypoll. With this victory, Congress has taken its total to 100 seats in the 200-member assembly. The election to the Ramgarh seat was delayed due to the death of sitting MLA and BSP candidate Laxman Singh.\n",
            "\n",
            "Extractive Summary (Summa):\n",
            "Congress candidate Shafia Zubair won the Ramgarh Assembly seat in Rajasthan, by defeating BJP's Sukhwant Singh with a margin of 12,228 votes in the bypoll.\n",
            "--------------------\n"
          ]
        }
      ]
    },
    {
      "cell_type": "code",
      "metadata": {
        "colab": {
          "base_uri": "https://localhost:8080/"
        },
        "id": "c301dca",
        "outputId": "8e7b3bb2-abbc-4612-a4f8-1ccae3645367"
      },
      "source": [
        "# 한 샘플에 대해서 비교해 보았음. 이거 하는데 굉장히 오래 걸렸네요.\n",
        "# Generate abstractive summary for sample index 1 from the test data\n",
        "sample_index_test = 1 # Use index 1 from the test set\n",
        "\n",
        "if sample_index_test < len(encoder_input_test):\n",
        "    original_text_sequence_processed = encoder_input_test[sample_index_test]\n",
        "    actual_headline_sequence_processed = decoder_target_test[sample_index_test]\n",
        "\n",
        "    # Actual Headline (Processed Sequence)\n",
        "    actual_headline_processed_str = ' '.join([reverse_target_word_index.get(token.item(), '<UNK>') for token in actual_headline_sequence_processed if token.item() != 0 and token.item() != tar_vocab['sostoken'] and token.item() != tar_vocab['eostoken']])\n",
        "\n",
        "    # Generate abstractive summary\n",
        "    abstractive_summary = generate_summary(original_text_sequence_processed)\n",
        "\n",
        "    # Find the original text for this test set sample for extractive summarization\n",
        "    original_text_processed_str = ' '.join([reverse_source_word_index.get(token.item(), '<UNK>') for token in original_text_sequence_processed if token.item() != 0])\n",
        "    original_text_full = \"Original text not found\" # Default if not found\n",
        "    matching_rows = data_original[data_original['text'].apply(lambda x: preprocess_sentence(x) == original_text_processed_str)]\n",
        "    if not matching_rows.empty:\n",
        "         original_text_full = matching_rows['text'].iloc[0]\n",
        "\n",
        "    # Generate extractive summary using summa on the original text\n",
        "    extractive_summary = summarizer.summarize(original_text_full, words=30)\n",
        "    if not extractive_summary: # If still empty, try with ratio\n",
        "         extractive_summary = summarizer.summarize(original_text_full, ratio=0.5)\n",
        "\n",
        "\n",
        "    print(f\"--- Comparison for Test Set Sample Index {sample_index_test} ---\")\n",
        "    print(\"Original Text:\")\n",
        "    print(original_text_full)\n",
        "    print(\"\\nActual Headline:\")\n",
        "    print(actual_headline_processed_str)\n",
        "    print(\"\\nExtractive Summary (Summa):\")\n",
        "    print(extractive_summary if extractive_summary else \"N/A\")\n",
        "    print(\"\\nAbstractive Summary (Seq2Seq):\")\n",
        "    print(abstractive_summary)\n",
        "    print(\"-\" * 20)\n",
        "\n",
        "else:\n",
        "    print(f\"Sample index {sample_index_test} is out of bounds for the test data.\")"
      ],
      "execution_count": 146,
      "outputs": [
        {
          "output_type": "stream",
          "name": "stdout",
          "text": [
            "--- Comparison for Test Set Sample Index 1 ---\n",
            "Original Text:\n",
            "Slamming the BJP and the Congress for dividing India on religious lines, All India Majlis-e-Ittehadul Muslimeen chief Asaduddin Owaisi has claimed that leaders from both the parties are fighting to prove who is a better Hindu. The parties are isolating minorities by focusing on religious identities of leaders, he added. \"Did freedom fighters sacrifice themselves for this?\" Owaisi questioned.\n",
            "\n",
            "Actual Headline:\n",
            "bjp congress trying to prove who is better hindu owaisi\n",
            "\n",
            "Extractive Summary (Summa):\n",
            "Slamming the BJP and the Congress for dividing India on religious lines, All India Majlis-e-Ittehadul Muslimeen chief Asaduddin Owaisi has claimed that leaders from both the parties are fighting to prove who is a better Hindu.\n",
            "\n",
            "Abstractive Summary (Seq2Seq):\n",
            "rss rss is not anti politics hindu ram mandir owaisi\n",
            "--------------------\n"
          ]
        }
      ]
    },
    {
      "cell_type": "markdown",
      "source": [
        "**<추출적 요약과 추상적 요약의 비교 분석표>**"
      ],
      "metadata": {
        "id": "_Bzfwsfg3cBL"
      }
    },
    {
      "cell_type": "markdown",
      "source": [
        "![제목 없음.png](data:image/png;base64,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)"
      ],
      "metadata": {
        "id": "7XIFWlGV4tAQ"
      }
    },
    {
      "cell_type": "markdown",
      "source": [
        "**상기 분석결과에 대한 추가적 논의**\n",
        "1) 추출적 요약은 약 50%수준으로 요약을 명령하였기에 높은 수준에 의미전달이 가능한 것으로 판단됨\n",
        "2) 아울러서 추상적 추출의 경우도 적절한 데이터 셋, 학습모델의 선택, 학습이 더 진행된다면 보다 높은 성능을 보일 것으로 보임"
      ],
      "metadata": {
        "id": "pgcCWk_C3iRq"
      }
    },
    {
      "cell_type": "markdown",
      "source": [],
      "metadata": {
        "id": "pS7gmXBz21E2"
      }
    },
    {
      "cell_type": "code",
      "source": [],
      "metadata": {
        "id": "cxYR54TTkyoN"
      },
      "execution_count": null,
      "outputs": []
    }
  ]
}